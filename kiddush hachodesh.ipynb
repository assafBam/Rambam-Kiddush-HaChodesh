{
 "cells": [
  {
   "attachments": {},
   "cell_type": "markdown",
   "metadata": {},
   "source": [
    "# <center><div style=\"direction:rtl\">הלכות קידוש החודש לרמב\"ם</div></center>\n",
    "\n",
    "#### <center><div style=\"direction:rtl\">אסף במברגר</div></center>\n"
   ]
  },
  {
   "attachments": {},
   "cell_type": "markdown",
   "metadata": {},
   "source": [
    "## <center><div style=\"direction:rtl\">פרק ו'</div></center>\n"
   ]
  },
  {
   "cell_type": "markdown",
   "metadata": {},
   "source": [
    "**<div style=\"direction:rtl\">הלכה א':</div>**\n",
    "<div style=\"direction:rtl\">\n",
    "בזמן שעושין על הראייה היו מחשבין ויודעין שעה שיתקבץ בו הירח עם החמה בדקדוק הרבה כדרך שהאיצטגנינין עושין. כדי לידע אם יראה הירח או לא יראה. ותחלת אותו החשבון הוא החשבון שמחשבין אותו בקירוב ויודעין שעת קיבוצן בלא דקדוק אלא במהלכם האמצעי הוא הנקרא מולד. ועיקרי החשבון שמחשבין בזמן שאין שם בית דין שיקבעו בו על הראייה והוא חשבון שאנו מחשבין היום הוא הנקרא עיבור.\n",
    "</div>\n"
   ]
  },
  {
   "cell_type": "markdown",
   "metadata": {},
   "source": [
    "\n",
    "**<div style=\"direction:rtl\">הלכה ב':</div>**\n",
    "<div style=\"direction:rtl\">\n",
    "היום והלילה ארבע ועשרים שעות בכל זמן. שתים עשרה ביום ושתים עשרה בלילה. והשעה מחולקת לאלף ושמנים חלקים. ולמה חלקו השעה למנין זה. לפי שמנין זה יש בו חצי ורביע ושמינית ושליש ושתות ותשע וחומש ועישור. והרבה חלקים יש לכל אלו השמות.\n",
    "</div>"
   ]
  },
  {
   "cell_type": "code",
   "execution_count": 46,
   "metadata": {},
   "outputs": [],
   "source": [
    "months_names = ('Tishrei', 'Heshvan','Kislev','Tevet','Shevat','Adar','Nisan','Iyar','Sivan','Tammuz','Av','Elul')\n",
    "class Time():\n",
    "    def __init__(self, days: int, hours: int, parts: int, moments: int =0, year: int=0):\n",
    "        parts+= moments // 76\n",
    "        hours+= (parts // 1080)\n",
    "        days+= (hours // 24)\n",
    "        self._days = days % 7\n",
    "        self._hours = hours % 24\n",
    "        self._parts = parts % 1080\n",
    "        self._moments = moments % 76\n",
    "        self.year = year\n",
    "\n",
    "    @property\n",
    "    def days(self):\n",
    "        return self._days\n",
    "    @days.setter\n",
    "    def days(self, days):\n",
    "        self._days = days % 7\n",
    "\n",
    "    @property\n",
    "    def hours(self):\n",
    "        return self._hours\n",
    "    @hours.setter\n",
    "    def hours(self, hours):\n",
    "        self._hours = hours % 24\n",
    "        self.days += hours // 24\n",
    "\n",
    "    @property\n",
    "    def parts(self):\n",
    "        return self._parts\n",
    "    @parts.setter\n",
    "    def parts(self, parts):\n",
    "        self._parts = parts % 1080\n",
    "        self.hours += parts // 1080\n",
    "\n",
    "    @property\n",
    "    def moments(self):\n",
    "        return self._moments\n",
    "    @moments.setter\n",
    "    def moments(self, moments):\n",
    "        self._momentss = moments % 76\n",
    "        self.parts += moments // 76\n",
    "\n",
    "    def __eq__(self, __o: object) -> bool:\n",
    "        if self.__class__ is __o.__class__:\n",
    "            return (self.days, self.hours, self.parts, self.moments) == (__o.days, __o.hours, __o.parts, __o.moments)\n",
    "        else:\n",
    "            raise NotImplemented\n",
    "    def __ne__(self, __o: object) -> bool:\n",
    "        return not (self == __o)\n",
    "    def __lt__(self, other: object) -> bool:\n",
    "        return (self.days, self.hours, self.parts, self.moments) < (other.days, other.hours, other.parts, other.moments)\n",
    "    def __le__(self, other: object) -> bool:\n",
    "        return self < other or self == other\n",
    "    def __gt__(self, other: object) -> bool:\n",
    "        return other < self\n",
    "    def __ge__(self, other: object) -> bool:\n",
    "        return self > other or self == other\n",
    "    def __repr__(self) -> str:\n",
    "        return f'Time({self.days}, {self.hours}, {self.parts})' if self.moments==0 else f'Time({self.days}, {self.hours}, {self.parts}, {self.moments})'\n",
    "    def __str__(self) -> str:\n",
    "        return f'{self.days}: {self.hours}: {self.parts}' if self.moments==0 else f'{self.days}: {self.hours}: {self.parts}: {self.moments}'\n",
    "    def __add__(self, __o: object):\n",
    "        if self.__class__ is __o.__class__:\n",
    "            return Time(self.days+__o.days, self.hours+__o.hours, self.parts+__o.parts, self.moments+__o.moments)\n",
    "        else:\n",
    "            raise NotImplemented\n",
    "    def __mul__(self, __o: int):\n",
    "        if __o.__class__ is int:\n",
    "            return Time(self.days*__o, self.hours*__o, self.parts*__o, self.moments*__o)\n",
    "        else:\n",
    "            raise NotImplemented\n",
    "    def __rmul__(self, __o: int):\n",
    "        return self * __o\n",
    "    def __sub__(self, __o: object):\n",
    "        if self.__class__ is __o.__class__:\n",
    "            return Time(self.days-__o.days, self.hours-__o.hours, self.parts-__o.parts, self.moments-__o.moments)\n",
    "        else:\n",
    "            raise NotImplemented\n",
    "    def copy(self):\n",
    "        return Time(self.days, self.hours, self.parts, self.moments, self.year)\n",
    "    def get_day_name(self):\n",
    "        return (\"SATURDAY\", \"SUNDAY\", \"MONDAY\", \"TUESDAY\", \"WEDNESDAY\", \"THURSDAY\", \"FRIDAY\")[self.days]\n",
    "\n",
    "    \n",
    "    "
   ]
  },
  {
   "cell_type": "markdown",
   "metadata": {},
   "source": [
    "**<div style=\"direction:rtl\">הלכה ג':</div>**\n",
    "<div style=\"direction:rtl\">\n",
    "משיתקבץ הירח והחמה לפי חשבון זה עד שיתקבצו פעם שנייה במהלכם האמצעי. תשעה ועשרים יום ושתים עשרה שעות מיום שלשים מתחלת לילו. ושבע מאות ושלשה ותשעים חלקים משעת שלש עשרה. וזה הוא הזמן שבין כל מולד ומולד וזה הוא חדשה של לבנה.\n",
    "\n",
    "</div>"
   ]
  },
  {
   "cell_type": "code",
   "execution_count": 47,
   "metadata": {},
   "outputs": [],
   "source": [
    "month_length = Time(29, 12, 793)"
   ]
  },
  {
   "cell_type": "markdown",
   "metadata": {},
   "source": [
    "\n",
    "**<div style=\"direction:rtl\">הלכה ד':</div>**\n",
    "<div style=\"direction:rtl\">\n",
    "שנה של לבנה אם תהיה שנים עשר חדש מחדשים אלו יהיה כללה שלש מאות יום וארבעה וחמשים יום ושמנה שעות ושמנה מאות וששה ושבעים חלקים. ואם תהיה מעוברת ותהיה השנה שלשה עשר חדש יהיה כללה שלש מאות ושמנים ושלשה יום ואחת ועשרים שעות וחמש מאות ותשעה ושמנים חלקים. ושנת החמה היא שלש מאות חמשה וששים יום ושש שעות. נמצא תוספת שנת החמה על שנת הלבנה עשרה ימים ואחת ועשרים שעות ומאתים וארבעה חלקים.\n",
    "\n",
    "</div>"
   ]
  },
  {
   "cell_type": "code",
   "execution_count": 48,
   "metadata": {},
   "outputs": [],
   "source": [
    "simple_year_length = Time(354, 8, 876)\n",
    "leap_year_length = Time(383, 21, 589)"
   ]
  },
  {
   "cell_type": "markdown",
   "metadata": {},
   "source": [
    "**<div style=\"direction:rtl\">הלכה ה':</div>**\n",
    "<div style=\"direction:rtl\">\n",
    "כשתשליך ימי חדש הלבנה שבעה שבעה שהן ימי השבוע. ישאר יום אחד ושתים עשרה שעות ושבע מאות ושלשה ותשעים חלקים. סימן להם אי\"ב תשצ\"ג. וזו היא שארית חדש הלבנה. וכן כשתשליך ימי שנת הלבנה שבעה שבעה. אם שנה פשוטה היא ישאר ממנה ארבעה ימים ושמנה שעות ושמנה מאות וששה ושבעים חלקים. סימן לה ד\"ח תתע\"ו. וזו היא שארית שנה פשוטה. ואם שנה מעוברת היא תהיה שאריתה חמשה ימים ואחת ועשרים שעות וחמש מאות ותשעה ושמנים חלקים. סימן להם הכ\"א תקפ\"ט.\n",
    "\n",
    "</div>"
   ]
  },
  {
   "cell_type": "code",
   "execution_count": 49,
   "metadata": {},
   "outputs": [
    {
     "name": "stdout",
     "output_type": "stream",
     "text": [
      "month remainder: 1: 12: 793\n",
      "simple year remainder: 4: 8: 876\n",
      "leap year remainder: 5: 21: 589\n"
     ]
    }
   ],
   "source": [
    "print(f\"month remainder: {month_length}\")\n",
    "print(f\"simple year remainder: {simple_year_length}\")\n",
    "print(f\"leap year remainder: {leap_year_length}\")"
   ]
  },
  {
   "attachments": {},
   "cell_type": "markdown",
   "metadata": {},
   "source": [
    "**<div style=\"direction:rtl\">הלכה ו':</div>**\n",
    "<div style=\"direction:rtl\">\n",
    "כשיהיה עמך ידוע מולד חדש מן החדשים ותוסיף עליו אי\"ב תשצ\"ג יצא מולד שאחריו. ותדע באי זה יום מימי השבוע ובאי זו שעה ובכמה חלקים יהיה.\n",
    "\n",
    "</div>\n"
   ]
  },
  {
   "cell_type": "markdown",
   "metadata": {},
   "source": [
    "\n",
    "**<div style=\"direction:rtl\">הלכה ז':</div>**\n",
    "<div style=\"direction:rtl\">\n",
    "כיצד הרי שהיה מולד ניסן באחד בשבת בחמש שעות ביום ומאה ושבעה חלקים סימן להם אהק\"ז. כשתוסיף עליו שארית חדש הלבנה והוא אי\"ב תשצ\"ג. יצא מולד אייר בליל שלישי חמש שעות בלילה ותשע מאות חלקים. סימן להם ג\"ה תת\"ק. ועל דרך זו עד סוף העולם חדש אחר חדש.\n",
    "\n",
    "</div>"
   ]
  },
  {
   "cell_type": "code",
   "execution_count": 50,
   "metadata": {},
   "outputs": [
    {
     "name": "stdout",
     "output_type": "stream",
     "text": [
      "3: 5: 900\n"
     ]
    }
   ],
   "source": [
    "Nisan = Time(1, 17, 107)\n",
    "Iyar = Nisan + month_length\n",
    "print(Iyar)"
   ]
  },
  {
   "cell_type": "markdown",
   "metadata": {},
   "source": [
    "\n",
    "**<div style=\"direction:rtl\">הלכה ח':</div>**\n",
    "<div style=\"direction:rtl\">\n",
    "וכן כשיהיה עמך ידוע מולד שנה זו ותוסיף שאריתה על ימי המולד. אם פשוטה היא שארית הפשוטה ואם מעוברת היא שארית המעוברת. יצא לך מולד שנה שלאחריה. וכן שנה אחר שנה עד סוף העולם. והמולד הראשון שממנו תתחיל הוא מולד שהיה בשנה הראשונה של יצירה. והוא היה בליל שני חמש שעות בלילה ומאתים וארבעה חלקים. סימן להם בהר\"ד וממנו הוא תחלת החשבון.\n",
    "</div>\n"
   ]
  },
  {
   "cell_type": "code",
   "execution_count": 51,
   "metadata": {},
   "outputs": [
    {
     "name": "stdout",
     "output_type": "stream",
     "text": [
      "the new moon of the next year will be at 2: 3: 6\n"
     ]
    }
   ],
   "source": [
    "first_new_moon = Time(2, 5, 204)\n",
    "\n",
    "new_moon_of_year = Time(3,5,497) # can change\n",
    "is_leap = True # can change to True / False\n",
    "print(f'the new moon of the next year will be at {new_moon_of_year+(leap_year_length if is_leap else simple_year_length)}')"
   ]
  },
  {
   "attachments": {},
   "cell_type": "markdown",
   "metadata": {},
   "source": [
    "\n",
    "**<div style=\"direction:rtl\">הלכה ט':</div>**\n",
    "<div style=\"direction:rtl\">\n",
    "בכל החשבונות האלו שתדע מהן המולד. כשתוסיף שארית עם שארית כשיתקבץ מן החלקים אלף ושמנים תשליך שעה אחת ותוסיף אותו למנין השעות. וכשיתקבץ מן השעות ארבע ועשרים תשליך יום ותוסיף ממנו למנין הימים. וכשיתקבץ מן הימים יותר על שבעה תשליך שבעה מן המנין ותניח השאר. שאין אנו מחשבין לידע מניין הימים אלא לידע באי זה יום מימי השבוע ובאי זה שעה ואי זה חלק יהיה המולד.\n",
    "\n",
    "</div>\n"
   ]
  },
  {
   "cell_type": "markdown",
   "metadata": {},
   "source": [
    "\n",
    "**<div style=\"direction:rtl\">הלכה י':</div>**\n",
    "<div style=\"direction:rtl\">\n",
    "כל תשע עשרה שנה שיהיו מהן שבע שנים מעוברות ושתים עשרה פשוטות נקרא מחזור. ולמה סמכנו על מנין זה. שבזמן שאתה מקבץ מנין ימי שתים עשרה שנה פשוטות ושבע מעוברות ושעותיהן וחלקיהן ותשליך כל אלף ושמנים חלקים שעה. וכל ארבע ועשרים שעות יום. ותוסיף למנין הימים תמצא הכל תשע עשרה שנה משני החמה שכל שנה מהן שלש מאות וחמשה וששים יום ושש שעות בשוה. ולא ישאר ממנין ימי החמה בכל תשע עשרה שנה חוץ משעה אחת וארבע מאות ושמנים וחמשה חלקים. סימן להם אתפ\"ה.\n",
    "\n",
    "</div>\n"
   ]
  },
  {
   "cell_type": "code",
   "execution_count": 52,
   "metadata": {},
   "outputs": [
    {
     "name": "stdout",
     "output_type": "stream",
     "text": [
      "0: 1: 485\n"
     ]
    }
   ],
   "source": [
    "epoch_remainder_from_sun_years = 19*Time(365, 6, 0) - (12* simple_year_length + 7*leap_year_length)\n",
    "print(epoch_remainder_from_sun_years)"
   ]
  },
  {
   "cell_type": "markdown",
   "metadata": {},
   "source": [
    "\n",
    "**<div style=\"direction:rtl\">הלכה י\"א:</div>**\n",
    "<div style=\"direction:rtl\">\n",
    "נמצא במחזור שהוא כזה החדשים כולם חדשי הלבנה והשנים שני החמה. והשבע שנים המעוברות שבכל מחזור ומחזור לפי חשבון זה. הם שנה שלישית מן המחזור וששית ושמינית ושנת אחת עשרה ושנת ארבע עשרה ושנת שבע עשרה ושנת י\"ט. סימן להם גו\"ח י\"א י\"ד י\"ז י\"ט.\n",
    "\n",
    "</div>\n"
   ]
  },
  {
   "cell_type": "code",
   "execution_count": 53,
   "metadata": {},
   "outputs": [
    {
     "name": "stdout",
     "output_type": "stream",
     "text": [
      "the year 5780 is not a leap year\n"
     ]
    }
   ],
   "source": [
    "def is_leap_year(year: int) -> bool:\n",
    "    leap_years = {3, 6, 8, 11, 14, 17, 0}\n",
    "    return (year % 19) in leap_years\n",
    "\n",
    "year = 5780 # can be changed\n",
    "print(f'the year {year} is{\"\" if is_leap_year(year) else \" not\"} a leap year') "
   ]
  },
  {
   "cell_type": "markdown",
   "metadata": {},
   "source": [
    "\n",
    "**<div style=\"direction:rtl\">הלכה י\"ב:</div>**\n",
    "<div style=\"direction:rtl\">\n",
    "כשתקבץ שארית כל שנה משתים עשרה שנה הפשוטות שהיא ד\"ח תתע\"ו. ושארית כל שנה משבע שנים המעוברות שהיא הכ\"א תקפ\"ט. ותשליך הכל שבעה שבעה ישאר שני ימים ושש עשרה שעות וחמש מאות וחמשה ותשעים חלקים. סימן להם בי\"ו תקצ\"ה. וזה הוא שארית המחזור.\n",
    "\n",
    "</div>\n"
   ]
  },
  {
   "cell_type": "code",
   "execution_count": 54,
   "metadata": {},
   "outputs": [
    {
     "name": "stdout",
     "output_type": "stream",
     "text": [
      "2: 16: 595\n"
     ]
    }
   ],
   "source": [
    "epoch_remaider = 12*simple_year_length + 7*leap_year_length\n",
    "print(epoch_remaider)"
   ]
  },
  {
   "cell_type": "markdown",
   "metadata": {},
   "source": [
    "\n",
    "**<div style=\"direction:rtl\">הלכה י\"ג:</div>**\n",
    "<div style=\"direction:rtl\">\n",
    "כשיהיה לך ידוע מולד תחלת מחזור ותוסיף עליו בי\"ו תקצ\"ה. יצא לך תחלת המחזור שאחריו. וכן מולד כל מחזור ומחזור עד סוף העולם. וכבר אמרנו שמולד תחלת המחזור הראשון היה לבהר\"ד. ומולד השנה הוא מולד תשרי של אותה השנה.\n",
    "\n",
    "</div>\n"
   ]
  },
  {
   "cell_type": "code",
   "execution_count": 55,
   "metadata": {},
   "outputs": [
    {
     "name": "stdout",
     "output_type": "stream",
     "text": [
      "the new moon of the next epoch will be at 5: 22: 12\n"
     ]
    }
   ],
   "source": [
    "new_moon_of_epoch = Time(3,5,497) # can change\n",
    "print(f'the new moon of the next epoch will be at {new_moon_of_epoch + epoch_remaider}')"
   ]
  },
  {
   "cell_type": "markdown",
   "metadata": {},
   "source": [
    "\n",
    "**<div style=\"direction:rtl\">הלכה י\"ד:</div>**\n",
    "<div style=\"direction:rtl\">\n",
    "ובדרך הזאת תדע מולד כל שנה ושנה שתרצה ומולד כל חדש וחדש שתרצה. משנים שעברו או משנים שעתידים לבא. כיצד תקח שני יצירה שעברו וגמרו ותעשה אותם מחזורין של תשע עשרה תשע עשרה שנה עד תשרי של אותה השנה. ותדע מנין המחזורין שעברו ומנין השנים שעברו ממחזור שעדיין לא נשלם. ותקח לכל מחזור ומחזור בי\"ו תקצ\"ה. ולכל שנה ושנה פשוטה משני המחזור שלא נשלם ד\"ח תתע\"ו. ולכל שנה מעוברת הכ\"א תקפ\"ט. ותקבץ הכל ותשליך החלקים שעות. ותשליך השעות ימים. והימים תשליכם שבעה שבעה. והנשאר מן הימים ומן השעות והחלקים הוא מולד שנה הבאה שתרצה לידע מולדה.\n",
    "\n",
    "</div>\n"
   ]
  },
  {
   "cell_type": "code",
   "execution_count": 56,
   "metadata": {},
   "outputs": [
    {
     "name": "stdout",
     "output_type": "stream",
     "text": [
      "the new moon of year 5782 is at 3: 5: 497\n"
     ]
    }
   ],
   "source": [
    "def newMoon(year: int) -> Time:\n",
    "    assert(year>=0)\n",
    "    new_moon_result = first_new_moon.copy()\n",
    "    passed_years = year - 1\n",
    "    number_of_epochs = passed_years // 19\n",
    "    new_moon_result += number_of_epochs * epoch_remaider\n",
    "    for year_from_current_epoch in range(1, (passed_years%19)+1):\n",
    "        new_moon_result+= leap_year_length if is_leap_year(year_from_current_epoch) else simple_year_length\n",
    "    new_moon_result.year = year\n",
    "    return new_moon_result\n",
    "\n",
    "year = 5782 # can change\n",
    "new_moon_year = newMoon(year)\n",
    "print(f'the new moon of year {year} is at {new_moon_year}')"
   ]
  },
  {
   "cell_type": "markdown",
   "metadata": {},
   "source": [
    "\n",
    "**<div style=\"direction:rtl\">הלכה ט\"ו:</div>**\n",
    "<div style=\"direction:rtl\">\n",
    "מולד השנה שיצא בחשבון זה הוא מולד ראש חדש תשרי. וכשתוסיף עליו אי\"ב תשצ\"ג יצא מולד מרחשון. וכשתוסיף על מרחשון אי\"ב תשצ\"ג יצא מולד כסליו. וכן לכל חדש וחדש זה אחר זה עד סוף העולם\n",
    "\n",
    "</div>"
   ]
  },
  {
   "cell_type": "code",
   "execution_count": 57,
   "metadata": {},
   "outputs": [
    {
     "name": "stdout",
     "output_type": "stream",
     "text": [
      "the new moon of month Adar is at 0: 3: 966\n"
     ]
    }
   ],
   "source": [
    "def get_month_name(year: int, month: int)-> str:\n",
    "    assert(month>0 and year>=0)\n",
    "    _is_leap = is_leap_year(year)\n",
    "    assert(month<=13 if _is_leap else 12)\n",
    "    if not _is_leap:\n",
    "        return months_names[month-1]\n",
    "    else:\n",
    "        if month-1 <= months_names.index('Adar'):\n",
    "            return months_names[month-1] + (' I' if months_names[month-1] =='Adar' else '')\n",
    "        else:\n",
    "            return months_names[month-2] + (' II' if months_names[month-2] =='Adar' else '')\n",
    "\n",
    "month = 6 # can change, 1 is Tishrei\n",
    "year = 5781 # can change\n",
    "print(f'the new moon of month {get_month_name(year, month)} is at {month*newMoon(year)}')"
   ]
  },
  {
   "attachments": {},
   "cell_type": "markdown",
   "metadata": {},
   "source": [
    "## <center><div style=\"direction:rtl\">פרק ז'</div></center>\n"
   ]
  },
  {
   "cell_type": "markdown",
   "metadata": {},
   "source": [
    "**<div style=\"direction:rtl\">הלכה א':</div>**\n",
    "<div style=\"direction:rtl\">\n",
    "אין קובעין לעולם ראש חדש תשרי לפי חשבון זה לא באחד בשבת ולא ברביעי בשבת ולא בערב שבת. וסימן להם אד\"ו. אלא כשיהיה מולד תשרי באחד משלשה ימים האלו קובעין ראש חדש ביום שלאחריו. כיצד הרי שהיה המולד באחד בשבת קובעין ראש חדש תשרי יום שני. ואם היה המולד ברביעי קובעין ראש חדש יום חמישי. ואם היה המולד בששי קובעין ראש חדש בשביעי.\n",
    "\n",
    "</div>\n"
   ]
  },
  {
   "cell_type": "code",
   "execution_count": 58,
   "metadata": {},
   "outputs": [
    {
     "name": "stdout",
     "output_type": "stream",
     "text": [
      "in year 5780 new-years will be pushed because of ADU (the new moon is at SUNDAY)\n"
     ]
    }
   ],
   "source": [
    "def ADU(new_moon: Time) -> bool:\n",
    "    return new_moon.days in {1, 4, 6}\n",
    "\n",
    "year = 5780 # can change\n",
    "assert(year >=0)\n",
    "new_moon = newMoon(year)\n",
    "print(f'in year {year} new-years will {\"not \" if not ADU(new_moon) else \"\" }be pushed because of ADU (the new moon is at {new_moon.get_day_name()})')"
   ]
  },
  {
   "attachments": {},
   "cell_type": "markdown",
   "metadata": {},
   "source": [
    "\n",
    "**<div style=\"direction:rtl\">הלכה ב':</div>**\n",
    "<div style=\"direction:rtl\">\n",
    "וכן אם יהיה המולד בחצי היום או למעלה מחצי היום קובעין ראש חדש ביום שלאחריו. כיצד הרי שהיה המולד ביום שני בשש שעות ביום או יתר על שש שעות קובעין ראש חדש בשלישי. ואם יהיה המולד קודם חצי היום אפילו בחלק אחד קובעין ראש החדש באותו יום המולד עצמו. והוא שלא יהיה אותו היום מימי אד\"ו.\n",
    "\n",
    "</div>"
   ]
  },
  {
   "cell_type": "code",
   "execution_count": 59,
   "metadata": {},
   "outputs": [
    {
     "name": "stdout",
     "output_type": "stream",
     "text": [
      "in year 5781 new-years will be pushed because the new moon is after noon (the new moon time in the day is 20:701)\n"
     ]
    }
   ],
   "source": [
    "def pastNoon(new_moon: Time) -> bool:\n",
    "    return new_moon.hours >= 18\n",
    "\n",
    "year = 5781 # can change\n",
    "assert(year >=0)\n",
    "new_moon = newMoon(year)\n",
    "print(f'in year {year} new-years will {\"not \" if not pastNoon(new_moon) else \"\" }be pushed because the new moon is after noon (the new moon time in the day is {new_moon.hours}:{new_moon.parts})')"
   ]
  },
  {
   "attachments": {},
   "cell_type": "markdown",
   "metadata": {},
   "source": [
    "\n",
    "**<div style=\"direction:rtl\">הלכה ג':</div>**\n",
    "<div style=\"direction:rtl\">\n",
    "כשיהיה המולד בחצי היום או אחר חצות וידחה ליום שלאחריו. אם יהיה יום שלאחריו מימי אד\"ו הרי זה נדחה שלאחריו ויהיה ראש החדש קבוע בשלישי מיום המולד. כיצד הרי שיהיה המולד בשבת בחצות סימן זי\"ח קובעין ראש החדש בשנה שמולדה כזה בשני בשבת. וכן אם היה המולד בשלישי בחצות או אחר חצות קובעין ראש החדש בחמישי בשבת.\n",
    "\n",
    "</div>"
   ]
  },
  {
   "cell_type": "code",
   "execution_count": 60,
   "metadata": {},
   "outputs": [
    {
     "name": "stdout",
     "output_type": "stream",
     "text": [
      "in the year 5781, the new moon is at 5: 20: 701 and new-years is at day SATURDAY\n",
      "\t(new-years will be pushed because the new moon is past noon and then pushed again because of ADU)\n"
     ]
    }
   ],
   "source": [
    "year = 5781 # can change\n",
    "assert(year >=0)\n",
    "new_moon = newMoon(year)\n",
    "\n",
    "new_years = new_moon.copy()\n",
    "flags = {'ADU':False, 'pastNoon': False}\n",
    "if pastNoon(new_years):\n",
    "    new_years.days += 1\n",
    "    flags['pastNoon'] = True\n",
    "if ADU(new_years):\n",
    "    new_years.days += 1\n",
    "    flags['ADU'] = True\n",
    "print(f'in the year {year}, the new moon is at {new_moon} and new-years is at day {new_years.get_day_name()}')\n",
    "past_noon_msg = f\"the new moon is past noon{'' if not flags['ADU'] else ' and then pushed again because of ADU'}\"\n",
    "pushed_msg = f\" because {'of ADU' if not flags['pastNoon'] else past_noon_msg}\"\n",
    "print(f'\\t(new-years will {\"not \" if sum(flags.values()) == 0 else \"\"}be pushed{\"\" if sum(flags.values()) == 0 else pushed_msg })')"
   ]
  },
  {
   "attachments": {},
   "cell_type": "markdown",
   "metadata": {},
   "source": [
    "\n",
    "**<div style=\"direction:rtl\">הלכה ד':</div>**\n",
    "<div style=\"direction:rtl\">\n",
    "מולד תשרי שיצא בחשבון זה בליל שלישי בתשע שעות בלילה ומאתים וארבעה חלקים משעה עשירית סימנה ג\"ט ר\"ד. או יותר על זה. אם היתה שנה פשוטה דוחין את ראש החדש ואין קובעים אותו בשלישי בשנה זו אלא בחמישי בשבת.\n",
    "\n",
    "</div>\n"
   ]
  },
  {
   "cell_type": "code",
   "execution_count": 71,
   "metadata": {},
   "outputs": [
    {
     "name": "stdout",
     "output_type": "stream",
     "text": [
      "in year 5789 new-years will be pushed because of GTRD (the new moon is at Tuesday after 9:204 - at 3: 9: 368) and the year 5789 is not a leap year \n"
     ]
    }
   ],
   "source": [
    "def GTRD(new_moon: Time, year: int =None) -> bool:\n",
    "    if year is None:\n",
    "        year = new_moon.year\n",
    "    return new_moon.days == 3 and new_moon >= Time(3, 9, 204) and not is_leap_year(year)\n",
    "\n",
    "year = 5789 # can change\n",
    "assert(year >=0)\n",
    "new_moon = newMoon(year)\n",
    "print(f'in year {year} new-years will {\"not \" if not GTRD(new_moon) else \"\" }be pushed because of GTRD{\"\" if not GTRD(new_moon) else f\" (the new moon is at Tuesday after 9:204 - at {new_moon!s}) and the year {year} is not a leap year\" } ')"
   ]
  },
  {
   "attachments": {},
   "cell_type": "markdown",
   "metadata": {},
   "source": [
    "**<div style=\"direction:rtl\">הלכה ה':</div>**\n",
    "<div style=\"direction:rtl\">\n",
    "וכן אם יצא מולד תשרי ביום שני בשלש שעות ביום ותקפ\"ט חלקים משעה רביעית. סימנה בט\"ו תקפ\"ט. או יתר על כן. אם היתה אותה השנה מוצאי המעוברת שהיתה השנה הסמוכה לה שעברה מעוברת. אין קובעין ראש החדש בשני בשנה זו אלא בשלישי.\n",
    "\n",
    "</div>"
   ]
  },
  {
   "cell_type": "code",
   "execution_count": 76,
   "metadata": {},
   "outputs": [
    {
     "name": "stdout",
     "output_type": "stream",
     "text": [
      "in year 5766 new-years will be pushed because of BTU_TAKPAT (because the new moon is at Monday after 15:589 - at 2: 16: 876) and the year 5765 is a leap year \n"
     ]
    }
   ],
   "source": [
    "def BTU_TAKPAT(new_moon: Time, year: int =None) -> bool:\n",
    "    if year is None:\n",
    "        year = new_moon.year\n",
    "    if not is_leap_year(year-1):\n",
    "        return False\n",
    "    return new_moon.days == 2 and new_moon >= Time(2, 15, 589)\n",
    "\n",
    "year = 5766 # can change\n",
    "assert(year >=0)\n",
    "new_moon = newMoon(year)\n",
    "print(f'in year {year} new-years will {\"not \" if not BTU_TAKPAT(new_moon) else \"\" }be pushed because of BTU_TAKPAT{\"\" if not BTU_TAKPAT(new_moon) else f\" (because the new moon is at Monday after 15:589 - at {new_moon!s}) and the year {year-1} is a leap year\" } ')"
   ]
  },
  {
   "attachments": {},
   "cell_type": "markdown",
   "metadata": {},
   "source": [
    "\n",
    "**<div style=\"direction:rtl\">הלכה ו':</div>**\n",
    "<div style=\"direction:rtl\">\n",
    "היה מולד השנה הפשוטה שאמרנו שתדחה לחמישי פחות חלק אחד. כגון שיצא סימנה ג\"ט ר\"ג או פחות מזה. קובעין אותה בשלישי. וכן אם היה מולד מוצאי העיבור ביום שני פחות חלק. כגון שהיה סימנה בט\"ו תקפ\"ח או פחות מזה. קובעין אותה בשני. נמצא דרך קביעת ראש חדש תשרי לפי חשבון זה כך הוא. תחשוב ותדע המולד באי זה יום יהיה ובכמה שעות מן היום או מן הלילה ובכמה חלקים מן השעה. ויום המולד הוא יום הקביעה לעולם. אלא אם כן היה באחד בשבת או ברביעי או בערב שבת. או אם היה המולד בחצות היום או אחר חצות. או אם היה בר\"ד חלקים משעה עשירית מליל שלישי או יותר על זה והיתה שנה פשוטה. או שהיה המולד בתקפ\"ט חלקים משעה רביעית מיום שני והיתה השנה פשוטה שאחר המעוברת. שאם יארע באחד מארבעה דברים האלו אין קובעין ביום המולד אלא ביום שלאחריו או שלאחר אחריו כדרך שביארנו.\n",
    "\n",
    "</div>\n"
   ]
  },
  {
   "attachments": {},
   "cell_type": "markdown",
   "metadata": {},
   "source": [
    "**<div style=\"direction:rtl\">הלכה ז':</div>**\n",
    "<div style=\"direction:rtl\">\n",
    "ומפני מה אין קובעין בחשבון זה בימי אד\"ו. לפי שהחשבון הזה הוא לקיבוץ הירח והשמש בהלוכה האמצעי לא במקום האמיתי כמו שהודענו. לפיכך עשו יום קביעה ויום דחייה כדי לפגוע ביום קיבוץ האמיתי. כיצד בשלישי קובעין ברביעי דוחין. בחמישי קובעין בששי דוחין. בשבת קובעין אחד בשבת דוחין. בשני קובעין.\n",
    "</div>"
   ]
  },
  {
   "attachments": {},
   "cell_type": "markdown",
   "metadata": {},
   "source": [
    "**<div style=\"direction:rtl\">הלכה ח':</div>**\n",
    "<div style=\"direction:rtl\">\n",
    "ועיקר שאר הארבע דחיות אלו הוא זה העיקר שאמרנו שהחשבון הזה במהלך אמצעי. וראיה לדבר שהמולד יהיה בליל שלישי וידחה לחמישי פעמים רבות לא יראה ירח בליל חמישי ולא בליל ששי מכלל שלא נתקבצו השמש והירח קבוץ אמיתי אלא בחמישי\n",
    "</div>"
   ]
  },
  {
   "attachments": {},
   "cell_type": "markdown",
   "metadata": {},
   "source": [
    "## <center><div style=\"direction:rtl\">פרק ח'</div></center>\n"
   ]
  },
  {
   "attachments": {},
   "cell_type": "markdown",
   "metadata": {},
   "source": [
    "**<div style=\"direction:rtl\">הלכה א':</div>**\n",
    "<div style=\"direction:rtl\">\n",
    "חדשה של לבנה תשעה ועשרים יום ומחצה ותשצ\"ג חלקים כמו שביארנו. ואי אפשר לומר שראש החדש יהיה במקצת היום עד שיהיה מקצת היום מחדש שעבר ומקצתו מהבא. שנאמר עד חדש ימים מפי השמועה למדו שימים אתה מחשב לחדש ואי אתה מחשב שעות.\n",
    "\n",
    "</div>\n"
   ]
  },
  {
   "attachments": {},
   "cell_type": "markdown",
   "metadata": {},
   "source": [
    "\n",
    "**<div style=\"direction:rtl\">הלכה ב':</div>**\n",
    "<div style=\"direction:rtl\">\n",
    "לפיכך עושין חדשי הלבנה מהן חדש חסר ומהם חדש מלא. חדש חסר תשעה ועשרים יום בלבד ואע\"פ שחדשה של לבנה יתר על זה בשעות. וחדש מלא משלשים יום ואף על פי שחדשה של לבנה פחות מזה בשעות. כדי שלא לחשב שעות בחדש אלא ימים שלמים.\n",
    "\n",
    "</div>\n"
   ]
  },
  {
   "cell_type": "markdown",
   "metadata": {},
   "source": [
    "\n",
    "**<div style=\"direction:rtl\">הלכה ג':</div>**\n",
    "<div style=\"direction:rtl\">\n",
    "אילו היה חדשה של לבנה תשעה ועשרים יום ומחצה בלבד היו כל השנים חדש מלא וחדש חסר. ויהיו ימי שנת הלבנה שנ\"ד, ששה חדשים חסרים וששה חדשים מלאים. אבל מפני החלקים שיש בכל חדש וחדש יותר על חצי היום יתקבץ מהן שעות וימים. עד שיהיו מקצת השנים חדשים חסרים יותר על המלאים ובמקצת השנים חדשים מלאים יותר על החסרים.\n",
    "\n",
    "</div>\n"
   ]
  },
  {
   "cell_type": "markdown",
   "metadata": {},
   "source": [
    "\n",
    "**<div style=\"direction:rtl\">הלכה ד':</div>**\n",
    "<div style=\"direction:rtl\">\n",
    "יום שלשים לעולם עושין אותו ראש חדש בחשבון זה. אם היה החדש שעבר חסר יהיה יום שלשים ראש חדש הבא. ואם יהיה החדש שעבר מלא יהיה יום שלשים ראש חדש הואיל ומקצתו ראש חדש. ויהיה תשלום החדש המלא שעבר. ויהיה יום אחד ושלשים ראש חדש הבא וממנו הוא המנין. והוא יום הקביעה. ולפיכך עושין ראשי חדשים בחשבון זה חדש אחד יום אחד בלבד וחדש אחד שני ימים.\n",
    "\n",
    "</div>\n"
   ]
  },
  {
   "cell_type": "markdown",
   "metadata": {},
   "source": [
    "\n",
    "**<div style=\"direction:rtl\">הלכה ה':</div>**\n",
    "<div style=\"direction:rtl\">\n",
    "סדר החדשים המלאים והחסרים לפי חשבון זה כך הוא. תשרי לעולם מלא. וטבת לעולם חסר. ומטבת ואילך אחד מלא ואחד חסר על הסדר. כיצד טבת חסר שבט מלא. אדר חסר ניסן מלא. אייר חסר סיון מלא. תמוז חסר אב מלא. אלול חסר. ובשנה המעוברת אדר ראשון מלא ואדר שני חסר.\n",
    "\n",
    "</div>\n"
   ]
  },
  {
   "cell_type": "markdown",
   "metadata": {},
   "source": [
    "\n",
    "**<div style=\"direction:rtl\">הלכה ו':</div>**\n",
    "<div style=\"direction:rtl\">\n",
    "נשארו שני החדשים שהן מרחשון וכסליו. פעמים יהיו שניהם מלאים ופעמים יהיו שניהם חסרים ופעמים יהיה מרחשון חסר וכסליו מלא. ושנה שיהיה בה שני חדשים אלו מלאים היא שנקראו חדשיה שלמים. ושנה שיהיו בה שני חדשים אלו חסרים נקראו חדשיה חסרין. ושנה שיהיה בה מרחשון חסר וכסליו מלא נקראו חדשיה כסדרן.\n",
    "\n",
    "</div>\n"
   ]
  },
  {
   "cell_type": "markdown",
   "metadata": {},
   "source": [
    "\n",
    "**<div style=\"direction:rtl\">הלכה ז':</div>**\n",
    "<div style=\"direction:rtl\">\n",
    "דרך ידיעת השנה אם חדשיה מלאים או חסרין או כסדרן לפי חשבון זה כך הוא. תדע תחלה יום שנקבע בו ראש השנה שתרצה לידע סדור חדשיה כמו שביארנו בפרק שביעי. ותדע יום שיקבע בו ראש השנה שלאחריה, ותחשב מנין הימים שביניהן חוץ מיום הקביעה של זו ושל זו. אם תמצא ביניהן שני ימים יהיו חדשי השנה חסרין. ואם תמצא ביניהם שלשה ימים יהיו כסדרן. ואם תמצא ביניהם ארבעה ימים יהיו חדשי השנה שלמים.\n",
    "\n",
    "</div>\n"
   ]
  },
  {
   "cell_type": "markdown",
   "metadata": {},
   "source": [
    "\n",
    "**<div style=\"direction:rtl\">הלכה ח':</div>**\n",
    "<div style=\"direction:rtl\">\n",
    "במה דברים אמורים כשהיתה השנה שתרצה לידע סדור חדשיה פשוטה. אבל אם היתה מעוברת. אם תמצא בין יום קביעתה ובין יום קביעת שנה שלאחריה ארבעה ימים יהיו חדשי אותה שנה המעוברת חסרים. ואם תמצא ביניהם חמשה ימים יהיו כסדרן. ואם תמצא ביניהם ששה יהיו שלמים.\n",
    "\n",
    "</div>\n"
   ]
  },
  {
   "cell_type": "markdown",
   "metadata": {},
   "source": [
    "\n",
    "**<div style=\"direction:rtl\">הלכה ט':</div>**\n",
    "<div style=\"direction:rtl\">\n",
    "כיצד הרי שרצינו לידע סידור חדשי שנה זו. והיה ראש השנה בחמישי והיא פשוטה וראש השנה שלאחריה בשני בשבת. נמצא ביניהן שלשה ימים. ידענו ששנה זו חדשיה כסדרן. ואילו היה ראש השנה שלאחריה בשלישי היו חדשי השנה זו שלמים. ואילו היה ראש השנה בשנה זו בשבת ובשנה שלאחריה בשלישי בשבת היו חדשי שנה זו חסרין. ועל דרך זו תחשב לשנה המעוברת כמו שביארנו.\n",
    "\n",
    "</div>\n"
   ]
  },
  {
   "cell_type": "markdown",
   "metadata": {},
   "source": [
    "\n",
    "**<div style=\"direction:rtl\">הלכה י':</div>**\n",
    "<div style=\"direction:rtl\">\n",
    "יש שם סימנין שתסמוך עליהם כדי שלא תטעה בחשבון סידור חדשי השנה והן בנויין על עיקרי זה החשבון והקביעות והדחיות שביארנו דרכם. ואלו הן. כל שנה שיהיה ראש השנה בה בשלישי תהיה לעולם כסדרן לפי חשבון זה. בין פשוטה בין מעוברת. ואם יהיה ראש השנה בשבת או בשני לא תהיה כסדרן לעולם בין בפשוטה בין במעוברת. ואם יהיה ראש השנה בחמישי. אם פשוטה היא אי אפשר שיהיו חדשיה חסרים לפי חשבון זה. ואם מעוברת היא אי אפשר שיהיו חדשיה כסדרן לפי חשבון זה\n",
    "</div>\n"
   ]
  },
  {
   "attachments": {},
   "cell_type": "markdown",
   "metadata": {},
   "source": [
    "## <center><div style=\"direction:rtl\">פרק ט'</div></center>\n"
   ]
  },
  {
   "cell_type": "markdown",
   "metadata": {},
   "source": [
    "**<div style=\"direction:rtl\">הלכה א':</div>**\n",
    "<div style=\"direction:rtl\">\n",
    "שנת החמה יש מחכמי ישראל שאומרים שהיא שס\"ה יום ורביע יום שהוא שש שעות. ויש מהן שאומרים שהוא פחות מרביע היום. וכן חכמי יון ופרס יש ביניהן מחלוקת בדבר זה.\n",
    "\n",
    "</div>\n"
   ]
  },
  {
   "cell_type": "markdown",
   "metadata": {},
   "source": [
    "\n",
    "**<div style=\"direction:rtl\">הלכה ב':</div>**\n",
    "<div style=\"direction:rtl\">\n",
    "מי שהוא אומר שהיא שס\"ה יום ורביע יום. ישאר מכל מחזור של תשע עשרה שנה שעה אחת ותפ\"ה חלקים כמו שאמרנו. ויהיה בין תקופה לתקופה אחד ותשעים יום ושבע שעות וחצי שעה. ומשתדע תקופה אחת באי זה יום באיזו שעה היא תתחיל למנות ממנה לתקופה השניה שאחריה ומן השניה לשלישית עד סוף העולם.\n",
    "\n",
    "</div>\n"
   ]
  },
  {
   "cell_type": "markdown",
   "metadata": {},
   "source": [
    "\n",
    "**<div style=\"direction:rtl\">הלכה ג':</div>**\n",
    "<div style=\"direction:rtl\">\n",
    "תקופת ניסן היא השעה והחלק שתכנס בו השמש בראש מזל טלה. ותקופת תמוז היות השמש בראש מזל סרטן. ותקופת תשרי היות השמש בראש מזל מאזנים. ותקופת טבת היות השמש בראש מזל גדי. ותקופת ניסן היתה בשנה הראשונה של יצירה לפי חשבון זה קודם מולד ניסן בשבעה ימים ותשע שעות ותרמ\"ב חלקים, סימנה ז\"ט תרמ\"ב.\n",
    "\n",
    "</div>\n"
   ]
  },
  {
   "cell_type": "markdown",
   "metadata": {},
   "source": [
    "\n",
    "**<div style=\"direction:rtl\">הלכה ד':</div>**\n",
    "<div style=\"direction:rtl\">\n",
    "דרך חשבון התקופה כך היא. תדע תחלה כמה מחזורין שלמים משנת היצירה עד המחזור שתרצה. וקח לכל מחזור מהן שעה אחת ותפ\"ה חלקים. קבץ כל החלקים שעות וכל השעות ימים ותגרע מן הכל שבעה ימים ותשע שעות ותרמ\"ב חלקים, והשאר תוסיף אותו על מולד ניסן של שנה ראשונה מן המחזור. יצא לך באי זו שעה ובכמה בחדש תהיה תקופת ניסן של אותה השנה מן המחזור. וממנה תתחיל למנות אחד ותשעים ליום ושבע שעות ומחצה לכל תקופה ותקופה. ואם תרצה לידע תקופת ניסן של שנה זו שהיא שנת כך וכך במחזור שאתה עומד בו. קח לכל המחזורין השלמים שעה ותפ\"ה לכל מחזור. ולכל השנים הגמורות ששלמו מן המחזור עשרה ימים וכ\"א שעות ור\"ד חלקים לכל שנה וקבץ הכל. ותגרע ממנו ז' ימים וט' שעות ותרמ\"ב חלקים. והשאר תשליכם חדשי הלבנה כ\"ט יום וי\"ב שעות וז' מאות וצ\"ג חלקים. והנשאר פחות מחדש הלבנה תוסיף אותו על מולד ניסן של אותה השנה. ותדע זמן תקופת ניסן של אותה השנה בכמה יום בחדש היא ובכמה שעה. תקופת ניסן לפי חשבון זה אינה לעולם אלא או בתחלת הלילה או בחצי הלילה או בתחלת היום או בחצי היום. ותקופת תמוז לעולם אינה אלא או בז' שעות ומחצה או בשעה אחת ומחצה בין ביום בין בלילה. ותקופת תשרי לעולם אינה אלא בט' שעות או בג' שעות בין ביום בין בלילה. ותקופת טבת לעולם אינה אלא או בי' שעות ומחצה או בארבע שעות ומחצה בין ביום בין בלילה. אם תרצה לידע באי זה יום מימי השבוע ובאי זו שעה תהיה התקופה. קח שנים גמורות שעברו משנת היצירה עד שנה שתרצה והשלך הכל כ\"ח כ\"ח והנשאר יותר מכ\"ח קח לכל שנה יום אחד ו' שעות. וקבץ הכל והוסיף עליו ג' והשלך הכל ז' ז'. והנשאר מן הימים ומן השעות תתחיל למנות מתחלת ליל אחד בשבת ולאשר יגיע החשבון בו תהיה תקופת ניסן. ולמה מוסיפין שלשה לפי שתקופה ראשונה של שנת יצירה היתה בתחלת ליל רביעי.\n",
    "\n",
    "</div>\n"
   ]
  },
  {
   "cell_type": "markdown",
   "metadata": {},
   "source": [
    "\n",
    "**<div style=\"direction:rtl\">הלכה ה':</div>**\n",
    "<div style=\"direction:rtl\">\n",
    "כיצד הרי שרצינו לידע תקופת ניסן של שנת תשע מאות ל' וארבעת אלפים ליצירה. כשתשליך הכל כ\"ח כ\"ח תשאר שנה אחת. תקח לה יום אחד ושש שעות ותוסיף עליו ג' נמצאת תקופת ניסן בליל חמישי שש שעות בלילה. וכשתוסיף עליה שבע שעות ומחצה הרי תהיה תקופת תמוז בשעה ומחצה מיום ה'. וכשתוסיף עליה שבע שעות ומחצה תהיה תקופת תשרי בט' שעות מיום ה'. וכשתוסיף עליה שבע שעות ומחצה תהיה תקופת טבת בד' שעות ומחצה מליל ו'. וכשתוסיף עליה שבע שעות ומחצה תהיה תקופת ניסן הבאה בתחלת יום ו'. ועל דרך זו עד סוף העולם תקופה אחר תקופה.\n",
    "\n",
    "</div>\n"
   ]
  },
  {
   "cell_type": "markdown",
   "metadata": {},
   "source": [
    "\n",
    "**<div style=\"direction:rtl\">הלכה ו':</div>**\n",
    "<div style=\"direction:rtl\">\n",
    "אם תרצה לידע בכמה יום בחדש תהיה תקופת ניסן של שנה זו. תדע תחלה באי זה יום מימי השבוע תהיה ובאי זה יום יקבעו ניסן של שנה זו וכמה שנים גמורות עברו מן המחזור. ותקח לכל שנה אחד עשר יום ותוסיף על סכום הימים ז' ימים בזמנים אלו. והשלך הכל ל' ל' והנשאר פחות מל' תתחיל למנותו מראש חדש ניסן. אם יגיע ליום התקופה מוטב ואם לאו הוסיף יום או שני ימים או ג' ימים על המנין עד שיגיע ליום התקופה. ואם תהיה השנה מעוברת תתחיל למנות מראש חדש אדר שני וליום שיגיע החשבון באותו היום מן החדש תהיה התקופה.\n",
    "\n",
    "</div>\n"
   ]
  },
  {
   "cell_type": "markdown",
   "metadata": {},
   "source": [
    "\n",
    "**<div style=\"direction:rtl\">הלכה ז':</div>**\n",
    "<div style=\"direction:rtl\">\n",
    "כיצד הרי שרצינו לידע בכמה בחדש תהיה תקופת ניסן של שנת תתק\"ל. שהיא שנה תשיעית ממחזור ר\"ס. מצאנו ראש חדש ניסן נקבע בה בחמישי ותקופת ניסן בחמישי. ולפי שהיתה שנה זו תשיעית למחזור יהיו השנים הגמורות שמנה. כשתקח לכל שנה מהן י\"א יום יהיו כל הימים פ\"ח. תוסיף ז' הרי הכל צ\"ה. תשליך הכל ל' ל' נשארו ה' ימים. כשתתחיל למנות ה' ימים מראש חדש ניסן שהיה בחמישי יגיע החשבון ליום שני. וכבר ידענו שאין התקופה בשני בשבת אלא בחמישי. לפיכך תוסיף יום אחר יום עד שתגיע לחמישי שהוא יום התקופה. נמצאת תקופת ניסן בשנה זו ביום שמיני מחדש ניסן. ועל הדרך הזאת תעשה בכל שנה ושנה.\n",
    "\n",
    "</div>\n"
   ]
  },
  {
   "cell_type": "markdown",
   "metadata": {},
   "source": [
    "\n",
    "**<div style=\"direction:rtl\">הלכה ח':</div>**\n",
    "<div style=\"direction:rtl\">\n",
    "זה שאמרנו תוסיף יום אחר יום עד שתגיע ליום התקופה. לעולם לא תהיה צריך להוסיף אלא יום אחד או ב' או ג'. ופלא גדול הוא שתהיה צריך להוסיף ארבעה ימים. ואם מצאת שאתה צריך להוסיף יום על זה תדע שטעית בחשבון ותחזור ותחשוב בדקדוק\n",
    "</div>"
   ]
  },
  {
   "attachments": {},
   "cell_type": "markdown",
   "metadata": {},
   "source": [
    "## <center><div style=\"direction:rtl\">פרק י'</div></center>\n"
   ]
  },
  {
   "cell_type": "markdown",
   "metadata": {},
   "source": [
    "**<div style=\"direction:rtl\">הלכה א':</div>**\n",
    "<div style=\"direction:rtl\">\n",
    "שנת החמה למי שהוא אומר שהוא פחות מרביע מחכמי ישראל. יש מי שאומר שס\"ה יום וחמש שעות ותתקצ\"ז חלקים ומ\"ח רגע. והרגע אחד מע\"ו בחלק. ולפי חשבון זה תהיה תוספת שנת החמה על שנת הלבנה י' ימים וכ\"א שעה וקכ\"א חלק ומ\"ח רגע. סימן להן יכ\"א קכ\"א מ\"ח. ולא תמצא תוספת במחזור של י\"ט שנה כלל אלא בכל מחזור מהם ישלמו שני החמה עם שני הלבנה הפשוטות והמעוברות.\n",
    "\n",
    "</div>\n"
   ]
  },
  {
   "cell_type": "markdown",
   "metadata": {},
   "source": [
    "\n",
    "**<div style=\"direction:rtl\">הלכה ב':</div>**\n",
    "<div style=\"direction:rtl\">\n",
    "בין כל תקופה ותקופה לפי חשבון זה צ\"א יום וז' שעות ותקי\"ט חלקים ול\"א רגע. סימן להם צ\"א ת\"ק י\"ט ל\"א. וכשתדע תקופה מן התקופות אימתי היתה. תחשוב מאותו רגע מנין זה ותדע תקופה שאחריה על הדרך שביארנו בתקופת השנה שהיא רביע.\n",
    "\n",
    "</div>\n"
   ]
  },
  {
   "cell_type": "markdown",
   "metadata": {},
   "source": [
    "\n",
    "**<div style=\"direction:rtl\">הלכה ג':</div>**\n",
    "<div style=\"direction:rtl\">\n",
    "תקופת ניסן לפי חשבון זה היתה בשנה ראשונה של יצירה קודם מולד ניסן בט' שעות ותרמ\"ב חלקים. סימן להם ט' תרמ\"ב. וכן היא לעולם בכל שנה ראשונה של כל מחזור קודם מולד ניסן בט' שעות ותרמ\"ב חלקים.\n",
    "\n",
    "</div>\n"
   ]
  },
  {
   "cell_type": "markdown",
   "metadata": {},
   "source": [
    "\n",
    "**<div style=\"direction:rtl\">הלכה ד':</div>**\n",
    "<div style=\"direction:rtl\">\n",
    "כשתדע תקופת ניסן של שנה ראשונה מן המחזור. תחשוב ממנה צ\"א יום וז' שעות ותקי\"ט חלקים ול\"א רגע לכל תקופה ותקופה עד סוף המחזור.\n",
    "\n",
    "</div>\n"
   ]
  },
  {
   "cell_type": "markdown",
   "metadata": {},
   "source": [
    "\n",
    "**<div style=\"direction:rtl\">הלכה ה':</div>**\n",
    "<div style=\"direction:rtl\">\n",
    "אם תרצה לידע מתי תהיה תקופת ניסן לפי חשבון זה. תדע תחילה שנים גמורות שעברו מן המחזור. ותקח לכל שנה מהן תוספת. והיא יכ\"א קכ\"א מ\"ח. וקבץ כל הרגעים חלקים וכל החלקים שעות וכל השעות ימים כדרך שתחשוב במולדות. ותגרע מן הכל ט' שעות ותרמ\"ב חלקים. והנשאר תשליך חדשי לבנה. והנשאר שאין בו חדש לבנה תוסיף אותו על מולד ניסן של אותה שנה. וברגע שיגיע המנין בו תהיה תקופת ניסן של אותה שנה.\n",
    "\n",
    "</div>\n"
   ]
  },
  {
   "cell_type": "markdown",
   "metadata": {},
   "source": [
    "\n",
    "**<div style=\"direction:rtl\">הלכה ו':</div>**\n",
    "<div style=\"direction:rtl\">\n",
    "ונראין לי הדברים שעל חשבון תקופה זו היו סומכין לענין עיבור השנה בעת שבית דין הגדול מצוי. שהיו מעברין מפני הזמן או מפני הצורך. לפי שחשבון זה הוא האמת יותר מן הראשון. והוא קרוב מן הדברים שנתבארו באיצטגנינות יותר מן החשבון הראשון שהיתה בו שנת החמה שס\"ה יום ורביע יום.\n",
    "\n",
    "</div>\n"
   ]
  },
  {
   "cell_type": "markdown",
   "metadata": {},
   "source": [
    "\n",
    "**<div style=\"direction:rtl\">הלכה ז':</div>**\n",
    "<div style=\"direction:rtl\">\n",
    "וחשבון שתי תקופות האלו שביארנו דרכם הכל בקירוב הוא ובמהלך השמש האמצעי לא במקומה האמיתי. אבל במקום השמש האמיתי תהיה תקופת ניסן בזמנים אלו בכמו שני ימים קודם שתי התקופות שיוצאין בחשבון זה. בין בחשבון מי שחשב רביע יום גמור בין למי שמחשב לפחות מרביע יום\n",
    "</div>"
   ]
  },
  {
   "attachments": {},
   "cell_type": "markdown",
   "metadata": {},
   "source": [
    "## <center><div style=\"direction:rtl\">פרק י\"א</div></center>\n"
   ]
  },
  {
   "cell_type": "markdown",
   "metadata": {},
   "source": [
    "**<div style=\"direction:rtl\">הלכה א':</div>**\n",
    "<div style=\"direction:rtl\">\n",
    "לפי שאמרנו בהלכות אלו שבית דין היו מחשבין בדקדוק ויודעים אם יראה הירח או לא יראה. ידענו שכל מי שרוחו נכונה ולבו תאב לדברי החכמות ולעמוד על הסודות יתאוה לידע אותן הדרכים שמחשבין בהם עד שידע אדם אם יראה הירח בליל זה או לא יראה.\n",
    "\n",
    "</div>\n"
   ]
  },
  {
   "cell_type": "markdown",
   "metadata": {},
   "source": [
    "\n",
    "**<div style=\"direction:rtl\">הלכה ב':</div>**\n",
    "<div style=\"direction:rtl\">\n",
    "ודרכי החשבון יש בהן מחלוקות גדולות בין חכמי הגוים הקדמונים שחקרו על חשבון התקופות והגימטריאות. ואנשים חכמים גדולים נשתבשו בהן ונתעלמו מהן דברים ונולדו להן ספיקות. ויש מי שדקדק הרבה ולא פגע בדרך הנכונה בחשבון ראית הירח אלא צלל במים אדירים והעלה חרס בידו.\n",
    "\n",
    "</div>\n"
   ]
  },
  {
   "cell_type": "markdown",
   "metadata": {},
   "source": [
    "\n",
    "**<div style=\"direction:rtl\">הלכה ג':</div>**\n",
    "<div style=\"direction:rtl\">\n",
    "ולפי אורך הימים ורוב הבדיקות והחקירות נודעו למקצת החכמים דרכי חשבון זה. ועוד שיש לנו בעיקרים אלו קבלות מפי החכמים וראיות שלא נכתבו בספרים הידועים לכל. ומפני כל אלו הדברים כשר בעיני לבאר דרכי חשבון זה כדי שיהיה נכון למי שמלאו לבו לקרבה אל המלאכה לעשות אותה.\n",
    "\n",
    "</div>\n"
   ]
  },
  {
   "cell_type": "markdown",
   "metadata": {},
   "source": [
    "\n",
    "**<div style=\"direction:rtl\">הלכה ד':</div>**\n",
    "<div style=\"direction:rtl\">\n",
    "ואל יהיו דרכים אלו קלים בעיניך מפני שאין אנו צריכין להם בזמן הזה. שאלו הדרכים דרכים רחוקים ועמוקים הן. והוא סוד העיבור שהיו החכמים הגדולים יודעים אותו ואין מוסרין אותו לכל אדם אלא לסמוכים נבונים. אבל זה החשבון בזמן הזה שאין בית דין לקבוע על פי הראיה שאנו מחשבין בו היום אפילו תינוקות של בית רבן מגיעין עד סופו בשלשה וארבעה ימים.\n",
    "\n",
    "</div>\n"
   ]
  },
  {
   "cell_type": "markdown",
   "metadata": {},
   "source": [
    "\n",
    "**<div style=\"direction:rtl\">הלכה ה':</div>**\n",
    "<div style=\"direction:rtl\">\n",
    "שמא יתבונן חכם מחכמי האומות או מחכמי ישראל שלמדו חכמת יון בדרכים אלו שאני מחשב בהן לראיית הירח ויראה קירוב מעט במקצת הדרכים. ויעלה על דעתו שנתעלם ממנו דבר זה ולא ידענו שיש באותו הדרך קירוב. אל יעלה זה על דעתו אלא כל דבר שלא דקדקנו בו מפני שידענו בעיקר הגימטריאות בראיות ברורות שאין דבר זה מפסיד בידיעת הראיה ואין חוששין לו. לפיכך לא דקדקנו בו.\n",
    "\n",
    "</div>\n"
   ]
  },
  {
   "cell_type": "markdown",
   "metadata": {},
   "source": [
    "\n",
    "**<div style=\"direction:rtl\">הלכה ו':</div>**\n",
    "<div style=\"direction:rtl\">\n",
    "וכן כשיראה בדרך מן הדרכים חסרון מעט מחשבון הראוי לאותה הדרך. בכוונה עשינו זה לפי שיש כנגדו יתרון בדרך אחרת עד שיצא הדבר לאמיתו בדרכים קרובים בלא חשבון ארוך. כדי שלא יבהל האדם שאינו רגיל בדברים אלו ברוב החשבונות שאין מועילין בראיית הירח\n",
    "\n",
    "</div>\n"
   ]
  },
  {
   "cell_type": "markdown",
   "metadata": {},
   "source": [
    "\n",
    "**<div style=\"direction:rtl\">הלכה ז':</div>**\n",
    "<div style=\"direction:rtl\">\n",
    "העיקרים שצריך אדם לידע תחלה לכל חשבונות האיצטגנינות. בין לדרכי חשבון הראיה בין לשאר דברים, אלו הן. הגלגל מוחלק בש\"ס מעלות. כל מזל ומזל שלשים מעלות. ומתחיל מתחילת מזל טלה. וכל מעלה ומעלה ס' חלקים. וכל חלק וחלק ס' שניות. וכל שניה ושניה ששים שלישיות. וכן תדקדק החשבון ותחלק כל זמן שתרצה.\n",
    "\n",
    "</div>\n"
   ]
  },
  {
   "cell_type": "markdown",
   "metadata": {},
   "source": [
    "\n",
    "**<div style=\"direction:rtl\">הלכה ח':</div>**\n",
    "<div style=\"direction:rtl\">\n",
    "לפיכך אם יצא לך בחשבון שכוכב פלוני מקומו בגלגל בע' מעלות ול' חלקים ומ' שניות. תדע שכוכב זה הוא מזל תאומים בחצי מעלה אחת עשרה ממזל זה. לפי שמזל טלה ל' מעלות ומזל שור ל' מעלות נשאר עשר מעלות ומחצה ממזל תאומים ומ' שניות מחצי המעלה האחרון.\n",
    "\n",
    "</div>\n"
   ]
  },
  {
   "cell_type": "markdown",
   "metadata": {},
   "source": [
    "\n",
    "**<div style=\"direction:rtl\">הלכה ט':</div>**\n",
    "<div style=\"direction:rtl\">\n",
    "וכן אם יצא מקומו בגלגל בש\"כ מעלות. תדע שכוכב זה במזל דלי בכ' מעלות בו. ועל דרך זו בכל המניינות. וסדר המזלות כך הוא. טלה שור תאומים סרטן אריה בתולה מאזנים עקרב קשת גדי דלי דגים.\n",
    "\n",
    "</div>\n"
   ]
  },
  {
   "cell_type": "markdown",
   "metadata": {},
   "source": [
    "\n",
    "**<div style=\"direction:rtl\">הלכה י':</div>**\n",
    "<div style=\"direction:rtl\">\n",
    "החשבונות כולם כשתקבץ שארית לשארית או כשתוסיף מנין על מנין. תקבץ כל מין עם מינו. השניות עם השניות והחלקים עם החלקים והמעלות עם המעלות. וכל זמן שיתקבץ מן השניות ס' תשים חלק אחד ותוסיף על החלקים. וכל שיתקבץ מן החלקים ס' תשים אותו מעלה ותוסיף אותה על המעלות. וכשתקבץ המעלות תשליך אותן ש\"ס והנשאר מש\"ס ולמטה הוא שתופסין אותו לחשבון.\n",
    "\n",
    "</div>\n"
   ]
  },
  {
   "cell_type": "markdown",
   "metadata": {},
   "source": [
    "\n",
    "**<div style=\"direction:rtl\">הלכה י\"א:</div>**\n",
    "<div style=\"direction:rtl\">\n",
    "בכל החשבונות כולן כשתרצה לגרוע מנין ממנין. אם יהיה זה שגורעין אותו יתר על זה שגורעין ממנו אפילו בחלק אחד תוסיף על זה שגורעין ממנו ש\"ס מעלות כדי שיהא אפשר לגרוע זה המנין ממנו.\n",
    "\n",
    "</div>\n"
   ]
  },
  {
   "cell_type": "markdown",
   "metadata": {},
   "source": [
    "\n",
    "**<div style=\"direction:rtl\">הלכה י\"ב:</div>**\n",
    "<div style=\"direction:rtl\">\n",
    "כיצד הרי שהצריכך החשבון לגרוע מאתים מעלות ונ' חלקים ומ' שניות. סימן רנ\"ם. מק' מעלות וכ' חלקים ול' שניות. סימנן קכ\"ל. תוסיף על הק' ש\"ס יהיו המעלות ת\"ס ותתחיל לגרוע השניות מן השניות תבא לגרוע ארבעים משלשים אי אפשר תרים חלק אחד מן העשרים חלקים ותעשה אותו ששים שניות ותוסיף על השלשים ונמצאו השניות תשעים. תגרע מהם המ' ישאר חמשים שניות. ותחזור לגרוע חמשים חלקים מי\"ט חלקים שכבר הרימות מהם חלק אחד ועשיתו שניות. ואי אפשר לגרוע חמשים מתשעה עשר. לפיכך תרים מעלה אחת מן המעלות ותעשה אותה ששים חלקים ותוסיף על התשעה עשר ונמצאו החלקים ע\"ט. תגרע מהן החמשים ישאר תשעה ועשרים חלקים. ותחזור לגרוע המאתים מעלות מן ארבע מאות ונ\"ט מעלות שכבר הרימות מעלה אחת ועשית חלקים. ישאר מאתים ותשע וחמשים מעלות ונמצא השאר סימנו רנ\"ט כ\"ט נ'. ועל דרך זו בכל גרעון וגרעון השמש והירח.\n",
    "\n",
    "</div>\n"
   ]
  },
  {
   "cell_type": "markdown",
   "metadata": {},
   "source": [
    "\n",
    "**<div style=\"direction:rtl\">הלכה י\"ג:</div>**\n",
    "<div style=\"direction:rtl\">\n",
    "וכן שאר השבעה כוכבים מהלך כל אחד ואחד מהן בגלגל שלו מהלך שוה. אין בו לא קלות ולא כבדות אלא כמו מהלכו היום כמו מהלכו אמש כמו מהלכו למחר כמו מהלכו בכל יום ויום. וגלגל של כל אחד מהם אע\"פ שהוא מקיף את העולם אין הארץ באמצעו.\n",
    "\n",
    "</div>\n"
   ]
  },
  {
   "cell_type": "markdown",
   "metadata": {},
   "source": [
    "\n",
    "**<div style=\"direction:rtl\">הלכה י\"ד:</div>**\n",
    "<div style=\"direction:rtl\">\n",
    "לפיכך אם תערוך מהלך כל אחד מהן לגלגל המקיף את העולם שהארץ באמצעו שהוא גלגל המזלות. ישתנה הלכו ונמצא מהלכו ביום זה בגלגל המזלות פחות או יותר על מהלכו אמש או על מהלכו למחר.\n",
    "\n",
    "</div>\n"
   ]
  },
  {
   "cell_type": "markdown",
   "metadata": {},
   "source": [
    "\n",
    "**<div style=\"direction:rtl\">הלכה ט\"ו:</div>**\n",
    "<div style=\"direction:rtl\">\n",
    "המהלך השוה שמהלך הכוכב או השמש או הירח בגלגלו הוא הנקרא אמצע המהלך. והמהלך שיהיה בגלגל המזלות שהוא פעמים יותר ופעמים חסר הוא המהלך האמיתי. ובו יהיה מקום השמש או מקום הירח האמיתי.\n",
    "\n",
    "</div>\n"
   ]
  },
  {
   "cell_type": "markdown",
   "metadata": {},
   "source": [
    "\n",
    "**<div style=\"direction:rtl\">הלכה ט\"ז:</div>**\n",
    "<div style=\"direction:rtl\">\n",
    "כבר אמרנו שאלו הדרכים שאנו מבארים בהלכות אלו אינן אלא לחשבון ראיית הירח בלבד. לפיכך עשינו העיקר שממנו מתחילין לעולם לחשבון זה מתחילת ליל חמישי שיומו יום שלישי לחדש ניסן משנה זו שהיא שנת י\"ז ממחזור ר\"ס. שהיא שנת תתקל\"ח וארבעת אלפים ליצירה. שהיא שנת תפ\"ט ואלף לשטרות. שהיא שנת ק\"ט ואלף לחרבן בית שני. וזו היא שאנו קוראים אותה שנת העיקר בחשבון זה.\n",
    "\n",
    "</div>\n"
   ]
  },
  {
   "cell_type": "markdown",
   "metadata": {},
   "source": [
    "\n",
    "**<div style=\"direction:rtl\">הלכה י\"ז:</div>**\n",
    "<div style=\"direction:rtl\">\n",
    "ולפי שהראיה לא תהיה אלא בארץ ישראל כמו שביארנו. עשינו כל דרכי חשבון הזה בנויים על עיר ירושלים ולשאר המקומות הסובבין אותה בכמו ששה או שבעה ימים שבהן רואין את הירח תמיד ובאים ומעידים בבית דין. ומקום זה הוא נוטה מתחת הקו השוה המסבב באמצע העולם כנגד רוח צפונית בכמו ל\"ב מעלות עד ל\"ה ועד כ\"ט. וכן הוא נוטה מאמצע הישוב כנגד רוח מערב בכמו כ\"ד מעלות עד כ\"ז ועד כ\"א\n",
    "</div>"
   ]
  },
  {
   "attachments": {},
   "cell_type": "markdown",
   "metadata": {},
   "source": [
    "## <center><div style=\"direction:rtl\">פרק י\"ב</div></center>\n"
   ]
  },
  {
   "cell_type": "markdown",
   "metadata": {},
   "source": [
    "**<div style=\"direction:rtl\">הלכה א':</div>**\n",
    "<div style=\"direction:rtl\">\n",
    "מהלך השמש האמצעי ביום אחד שהוא כ\"ד שעות נ\"ט חלקים ושמנה שניות. סימנם כ\"ד נט\"ח. נמצא מהלכה בעשרה ימים תשע מעלות ונ\"א חלקים וכ\"ג שניות. סימנם טנ\"א כ\"ג. ונמצא מהלכה במאה יום צ\"ח מעלות ושלשה ושלשים חלקים ונ\"ג שניות, סימנם צ\"ח ל\"ג נ\"ג. ונמצא שארית מהלכה באלף יום אחר שתשליך כל ש\"ס מעלות כמו שביארנו. רס\"ה מעלות ול\"ח חלקים ונ' שניות. סימנם רס\"ה לח\"ן. ונמצא שארית מהלכה בעשרת אלפים יום. קל\"ו מעלות וכ\"ח חלקים וכ' שניות. סימנם קל\"ו כ\"ח כ'. ועל הדרך הזה תכפול ותוציא מהלכה לכל מנין שתרצה. וכן אם תרצה לעשות סימנין ידועים אצלך למהלכה לשני ימים ולשלשה ולארבעה עד עשרה תעשה. וכן אם תרצה להיות לך סימנין ידועים מוכנין למהלכה לכ' יום ולל' ולמ' עד מאה תעשה. ודבר גלוי הוא וידוע מאחר שידעת מהלך יום אחד. וראוי הוא להיות מוכן וידוע אצלך מהלך אמצע השמש לכ\"ט יום ולשנ\"ד יום שהן ימי שנת הלבנה בזמן שחדשיה כסדרן. והיא הנקראת שנה סדורה.שבזמן שיהיו לך אמצעיות אלו מוכנין יהיה החשבון הזה קל עליך לראיית החדש. לפי שכ\"ט יום גמורים מליל הראיה עד ליל הראיה של חדש הבא וכן בכל חדש וחדש אין פחות מכ\"ט יום לא יותר. שאין חפצנו בכל אלו החשבונות אלא לדעת הראיה בלבד. וכן מליל הראיה של חדש זה עד ליל הראיה לאותו החדש לשנה הבאה שנה סדורה או שנה ויום אחד. וכן בכל שנה ושנה. ומהלך השמש האמצעי לכ\"ט יום כ\"ח מעלות ול\"ה חלקים ושניה אחת. סימנן כ\"ח ל\"ה א'. ומהלכה לשנה סדורה שמ\"ח מעלות ונ\"ה חלקים וט\"ו שניות סימנן שמ\"ח נ\"ה ט\"ו.\n",
    "\n",
    "</div>\n"
   ]
  },
  {
   "cell_type": "markdown",
   "metadata": {},
   "source": [
    "\n",
    "**<div style=\"direction:rtl\">הלכה ב':</div>**\n",
    "<div style=\"direction:rtl\">\n",
    "נקודה אחת יש בגלגל השמש וכן בשאר גלגלי השבעה כוכבים. בעת שיהיה הכוכב בה יהיה גבוה מעל הארץ כל מאורו. ואותה הנקודה של גלגל השמש ושאר הכוכבים חוץ מן הירח סובבת בשוה. ומהלכה בכל שבעים שנה בקירוב מעלה אחת. ונקודה זו היא הנקראת גובה השמש. מהלכו בכל עשרה ימים שניה אחת וחצי שניה שהיא ל' שלישיות. נמצא מהלכו בק' יום ט\"ו שניות. ומהלכו באלף יום שני חלקים ושלשים שניות. ומהלכו בעשרת אלפים יום כ\"ה חלקים. ונמצא מהלכו לתשעה ועשרים יום ארבע שניות ועוד. ומהלכו בשנה סדורה נ\"ג שניות. כבר אמרנו שהעיקר שממנו התחלת חשבון זה הוא מתחלת ליל חמישי שיומו שלישי לחדש ניסן משנת תתקל\"ח וארבעת אלפים ליצירה. ומקום השמש במהלכה האמצעי היה בעיקר הזה בשבע מעלות ושלשה חלקים ול\"ב שניות ממזל טלה. סימנן ז\"ג ל\"ב. ומקום גובה השמש היה בעיקר זה בכ\"ו מעלות מ\"ה חלקים ושמנה שניות ממזל תאומים. סימנם כ\"ו מ\"ה ח'. כשתרצה לידע מקום השמש במהלכה האמצעי בכל זמן שתרצה. תקח מנין הימים שמתחלת יום העיקר עד היום שתרצה. ותוציא מהלכה האמצעי באותן הימים מן הסימנין שהודענו. והוסיף הכל על העיקר ותקבץ כל מין עם מינו. והיוצא הוא מקום השמש במהלכה האמצעי לאותו היום. כיצד הרי שרצינו לידע מקום השמש האמצעי בתחלת ליל השבת שיומו ארבעה עשר לחדש תמוז משנה זו שהיא שנת העיקר. מצאנו מנין הימים מיום העיקר עד תחלת היום זה שאנו רוצים לידע מקום השמש בו מאה יום. לקחנו אמצע מהלכה לק' יום שהוא צ\"ח ל\"ג נ\"ג והוספנו על העיקר שהוא ז\"ג ל\"ב. יצא מן החשבון מאה וחמש מעלות ול\"ז חלקים וכ\"ה שניות. סימנן ק\"ה ל\"ז כ\"ה. ונמצא מקומה במהלך אמצעי בתחלת ליל זה במזל סרטן בט\"ו מעלות בו ול\"ז חלקים ממעלה ט\"ז. והאמצעי שיצא בחשבון זה פעמים יהיה בתחלת הלילה בשוה. או קודם שקיעת החמה בשעה. או אחר שקיעת החמה בשעה. ודבר זה לא תחוש לו בשמש בחשבון הראיה. שהרי אנו משלימים קירוב זה כשנחשוב לאמצע הירח. ועל הדרך הזאת תעשה תמיד לכל עת שתרצה ואפילו אחר אלף שנים. שתקבץ כל השארית ותוסיף על העיקר יצא לך המקום האמצעי. וכן תעשה באמצע הירח ובאמצע כל כוכב וכוכב. מאחר שתדע מהלכו ביום אחד כמה הוא ותדע העיקר שממנו תתחיל. ותקבץ מהלכו לכל השנים והימים שתרצה ותוסיף על העיקר ויצא לך מקומו במהלך אמצעי. וכן תעשה בגובה השמש תוסיף מהלכו באותם הימים או השנים על העיקר יצא לך מקום גובה השמש לאותו היום שתרצה. וכן אם תרצה לעשות עיקר אחר שתתחיל ממנו חוץ מעיקר זה שהתחלנו ממנו בשנה זו. כדי שיהיה אותו עיקר בתחלת שנת מחזור ידוע. או בתחלת מאה מן המאות. הרשות בידך. ואם תרצה להיות העיקר שתתחיל ממנו משנים שעברו קודם עיקר זה לאחר כמה שנים מעיקר זה הדרך ידועה. כיצד היא הדרך. כבר ידעת מהלך השמש לשנה סדורה ומהלכה לכ\"ט יום ומהלכה ליום אחד. ודבר ידוע שהשנה שחדשיה שלמים היא יתרה על הסדורה יום אחד. והשנה שחדשיה חסרין היא חסרה מן הסדורה יום אחד. והשנה המעוברת אם יהיו חדשיה כסדרן תהיה יתרה על השנה הסדורה שלשים יום. ואם יהיו חדשיה שלמים היא יתרה על הסדורה ל\"א יום. ואם יהיו חדשיה חסרין היא יתרה על הסדורה כ\"ט יום. ומאחר שכל הדברים האלו ידועים תוציא מהלך אמצע השמש לכל השנים והימים שתרצה ותוסיף על העיקר שעשינו. יצא לך אמצעה ליום שתרצה משנים הבאות. ותעשה אותו היום עיקר. או תגרע האמצע שהוצאת מן העיקר שעשינו ויצא לך העיקר ליום שתרצה משנים שעברו. ותעשה אותו אמצע העיקר. וכזה תעשה באמצע הירח ושאר הכוכבים אם יהיו ידועים לך. וכבר נתבאר לך מכלל דברינו שכשם שתדע אמצע השמש לכל יום שתרצה מימים הבאים כך תדע אמצעה לכל יום שתרצה מימים שעברו\n",
    "</div>"
   ]
  },
  {
   "attachments": {},
   "cell_type": "markdown",
   "metadata": {},
   "source": [
    "## <center><div style=\"direction:rtl\">פרק י\"ג</div></center>\n"
   ]
  },
  {
   "cell_type": "markdown",
   "metadata": {},
   "source": [
    "**<div style=\"direction:rtl\">הלכה א':</div>**\n",
    "<div style=\"direction:rtl\">\n",
    "אם תרצה לידע מקום השמש האמתי בכל יום שתרצה. תוציא תחלה מקומה האמצעי לאותו היום על הדרך שביארנו. ותוציא מקום גובה השמש. ותגרע מקום גובה השמש ממקום השמש האמצעי והנשאר הוא הנקרא מסלול השמש.\n",
    "\n",
    "</div>\n"
   ]
  },
  {
   "cell_type": "markdown",
   "metadata": {},
   "source": [
    "\n",
    "**<div style=\"direction:rtl\">הלכה ב':</div>**\n",
    "<div style=\"direction:rtl\">\n",
    "ותראה כמה מעלות הוא מסלול השמש. אם היה המסלול פחות מק\"פ מעלות. תגרע מנת המסלול ממקום השמש האמצעי. ואם היה המסלול יותר על ק\"פ מעלות עד ש\"ס תוסיף מנת המסלול על מקום השמש האמצעי. ומה שיהיה אחר שתוסיף עליו או תגרע ממנו הוא המקום האמתי.\n",
    "\n",
    "</div>\n"
   ]
  },
  {
   "cell_type": "markdown",
   "metadata": {},
   "source": [
    "\n",
    "**<div style=\"direction:rtl\">הלכה ג':</div>**\n",
    "<div style=\"direction:rtl\">\n",
    "ודע שאם יהיה המסלול מאה ושמונים בשוה או ש\"ס בשוה. אין לו מנה אלא יהיה המקום האמצעי הוא המקום האמתי.\n",
    "\n",
    "</div>\n"
   ]
  },
  {
   "cell_type": "markdown",
   "metadata": {},
   "source": [
    "\n",
    "**<div style=\"direction:rtl\">הלכה ד':</div>**\n",
    "<div style=\"direction:rtl\">\n",
    "וכמה היא מנת המסלול. אם יהיה המסלול עשר מעלות. תהיה מנתו כ' חלקים. ואם יהיה כ' מעלות תהיה מנתו מ' חלקים. ואם יהיה ל' מעלות תהיה מנתו נ\"ח חלקים. ואם יהיה מ' מעלות תהיה מנתו מעלה אחת וט\"ו חלקים. ואם יהיה נ' מעלות תהיה מנתו מעלה אחת וכ\"ט חלקים. ואם יהיה ס' מעלות תהיה מנתו מעלה אחת ומ\"א חלקים. ואם יהיה ע' מעלות תהיה מנתו מעלה אחת ונ\"א חלקים. ואם יהיה פ' מעלות תהיה מנתו מעלה ונ\"ז חלקים. ואם יהיה צ' מעלות תהיה מנתו מעלה אחת ונ\"ט חלקים. ואם יהיה ק' מעלות תהיה מנתו מעלה אחת ונ\"ח חלקים. ואם יהיה ק\"י תהיה מנתו מעלה אחת ונ\"ג חלקים. ואם יהיה ק\"כ תהיה מנתו מעלה אחת ומ\"ה חלקים. ואם יהיה ק\"ל תהיה מנתו מעלה אחת ול\"ג חלקים. ואם יהיה ק\"מ תהיה מנתו מעלה אחת וי\"ט חלקים. ואם יהיה ק\"נ תהיה מנתו מעלה אחת וחלק אחד. ואם יהיה ק\"ס תהיה מנתו מ\"ב חלקים. ואם יהיה ק\"ע תהיה מנתו כ\"א חלקים. ואם יהיה ק\"פ בשוה אין לו מנה כמו שביארנו אלא מקום השמש האמצעי הוא מקומה האמתי.\n",
    "\n",
    "</div>\n"
   ]
  },
  {
   "cell_type": "markdown",
   "metadata": {},
   "source": [
    "\n",
    "**<div style=\"direction:rtl\">הלכה ה':</div>**\n",
    "<div style=\"direction:rtl\">\n",
    "היה המסלול יותר על ק\"פ מעלות. תגרע אותו מש\"ס מעלות ותדע מנתו. כיצד הרי שהיה המסלול ר' מעלות. תגרע אותו מש\"ס תשאר ק\"ס מעלות. וכבר הודענו שמנת ק\"ס מעלות מ\"ב חלקים. וכן מנת המאתים מ\"ב חלקים.\n",
    "\n",
    "</div>\n"
   ]
  },
  {
   "cell_type": "markdown",
   "metadata": {},
   "source": [
    "\n",
    "**<div style=\"direction:rtl\">הלכה ו':</div>**\n",
    "<div style=\"direction:rtl\">\n",
    "וכן אם היה המסלול ש' מעלות. תגרע אותו מש\"ס ישאר ס'. וכבר ידעת שמנת ס' מעלות מעלה אחת ומ\"א חלקים. וכן היא מנת הש' מעלות. ועל דרך זו בכל מנין ומנין.\n",
    "\n",
    "</div>\n"
   ]
  },
  {
   "cell_type": "markdown",
   "metadata": {},
   "source": [
    "\n",
    "**<div style=\"direction:rtl\">הלכה ז':</div>**\n",
    "<div style=\"direction:rtl\">\n",
    "הרי שהיה המסלול ס\"ה מעלות. וכבר ידענו שמנת הששים היא מעלה אחת ומ\"א חלקים. ומנת הע' היא מעלה אחת ונ\"א חלקים. נמצא בין שתי המנות י' חלקים. ולפי חשבון המעלות יהיה לכל מעלה חלק אחד. ויהיה מנת המסלול שהוא ס\"ה מעלה אחת ומ\"ו חלקים.\n",
    "\n",
    "</div>\n"
   ]
  },
  {
   "cell_type": "markdown",
   "metadata": {},
   "source": [
    "\n",
    "**<div style=\"direction:rtl\">הלכה ח':</div>**\n",
    "<div style=\"direction:rtl\">\n",
    "וכן אילו היה המסלול ס\"ז היתה מנתו מעלה אחת ומ\"ח חלקים. ועל דרך זו תעשה בכל מסלול שיהיה במניינו אחדים עם העשרות. בין בחשבון השמש בין בחשבון הירח.\n",
    "\n",
    "</div>\n"
   ]
  },
  {
   "cell_type": "markdown",
   "metadata": {},
   "source": [
    "\n",
    "**<div style=\"direction:rtl\">הלכה ט':</div>**\n",
    "<div style=\"direction:rtl\">\n",
    "כיצד הרי שרצינו לידע מקום השמש האמתי בתחלת ליל השבת י\"ד יום לחדש תמוז משנה זו. תוציא אמצע השמש תחלה לעת הזאת. וסימנו ק\"ה ל\"ז כ\"ח כמו שביארנו. ותוציא מקום גובה השמש לעת הזאת. יצא לך סימנו פ\"ו מ\"ה כ\"ג. ותגרע מקום הגובה מן האמצעי. יצא לך המסלול י\"ח מעלות ונ\"ב חלקים ושתי שניות. סימנם י\"ח נ\"ב ב'. ואל תקפיד בכל מסלול על החלקים אלא אם יהיו פחות משלשים אל תפנה אליהם. ואם היו שלשים או יותר תחשב אותם מעלה אחת ותוסיף אותה על מנין מעלות המסלול. לפיכך יהיה מסלול זה י\"ט מעלות ותהיה מנתו על הדרך שביארנו ל\"ח חלקים.\n",
    "\n",
    "</div>\n"
   ]
  },
  {
   "cell_type": "markdown",
   "metadata": {},
   "source": [
    "\n",
    "**<div style=\"direction:rtl\">הלכה י':</div>**\n",
    "<div style=\"direction:rtl\">\n",
    "ולפי שהמסלול הזה היה פחות מק\"פ. תגרע המנה שהיא ל\"ח חלקים מאמצע השמש ישאר ק\"ד מעלות ונ\"ט חלקים וכ\"ה שניות. סימנם ק\"ד נ\"ט כ\"ה. ונמצא מקום השמש האמתי בתחלת ליל זה במזל סרטן בט\"ו מעלות בו פחות ל\"ה שניות. ואל תפנה אל השניות כלל לא במקום השמש ולא במקום הירח ולא בשאר חשבונות הראיה. אלא חקור על החלקים בלבד. ואם יהיו השניות קרוב לשלשים עשה אותם חלק אחד והוסיפו על החלקים.\n",
    "\n",
    "</div>\n"
   ]
  },
  {
   "cell_type": "markdown",
   "metadata": {},
   "source": [
    "\n",
    "**<div style=\"direction:rtl\">הלכה י\"א:</div>**\n",
    "<div style=\"direction:rtl\">\n",
    "ומאחר שתדע מקום השמש בכל עת שתרצה. תדע יום התקופה האמיתי כל תקופה שתרצה. בין תקופות הבאות אחר עיקר זה שממנו התחלנו. בין תקופות שעברו משנים קדמוניות\n",
    "</div>"
   ]
  },
  {
   "attachments": {},
   "cell_type": "markdown",
   "metadata": {},
   "source": [
    "## <center><div style=\"direction:rtl\">פרק י\"ד</div></center>\n"
   ]
  },
  {
   "cell_type": "markdown",
   "metadata": {},
   "source": [
    "**<div style=\"direction:rtl\">הלכה א':</div>**\n",
    "<div style=\"direction:rtl\">\n",
    "הירח שני מהלכים אמצעיים יש לו. הירח עצמו מסבב בגלגל קטן שאינו מקיף את העולם כולו. ומהלכו האמצעי באותו הגלגל הקטן נקרא אמצעי המסלול. והגלגל הקטן עצמו מסבב בגלגל גדול המקיף את העולם. ובמהלך אמצעי זה של גלגל הקטן באותו הגלגל הגדול המקיף את העולם הוא הנקרא אמצע הירח. מהלך אמצע הירח ביום אחד י\"ג מעלות וי' חלקים ול\"ה שניות. סימנם י\"ג יל\"ה.\n",
    "\n",
    "</div>\n"
   ]
  },
  {
   "cell_type": "markdown",
   "metadata": {},
   "source": [
    "\n",
    "**<div style=\"direction:rtl\">הלכה ב':</div>**\n",
    "<div style=\"direction:rtl\">\n",
    "נמצא מהלכו בעשרה ימים קל\"א מעלות ומ\"ה חלקים וחמשים שניות. סימנם קל\"א מה\"נ. ונמצא שארית מהלכו בק' יום רל\"ז מעלות ול\"ח חלקים וכ\"ג שניות. סימנם רל\"ז ל\"ח כ\"ג. ונמצאת שארית מהלכו באלף יום רי\"ו מעלות וכ\"ג חלקים ונ' שניות. סימנם רי\"ו כג\"ן. ונמצא שארית מהלכו בי' אלפים יום ג' מעלות ונ\"ח חלקים וכ' שניות. סימנם ג' נ\"ח כ'. ונמצא שארית מהלכו בכ\"ט יום כ\"ב מעלות וששה חלקים ונ\"ו שניות. סימנם כ\"ב ונ\"ו. ונמצא שארית מהלכו בשנה סדורה שמ\"ד מעלות וכ\"ו חלקים ומ\"ג שניות. סימן להם שד\"ם כ\"ו מ\"ג. ועל דרך זו תכפול לכל מנין ימים או שנים שתרצה.\n",
    "\n",
    "</div>\n"
   ]
  },
  {
   "cell_type": "markdown",
   "metadata": {},
   "source": [
    "\n",
    "**<div style=\"direction:rtl\">הלכה ג':</div>**\n",
    "<div style=\"direction:rtl\">\n",
    "ומהלך אמצע המסלול ביום אחד י\"ג מעלות ושלשה חלקים ונ\"ד שניות. סימנם י\"ג גנ\"ד. נמצא מהלכו בעשרה ימים ק\"ל מעלות ל\"ט חלקים בלא שניות. סימנם ק\"ל ל\"ט. ונמצא שארית מהלכו במאה יום רכ\"ו מעלות וכ\"ט חלקים ונ\"ג שניות. סימנם רכ\"ו כ\"ט נ\"ג. ונמצא שארית מהלכו באלף יום ק\"ד מעלות ונ\"ח חלקים וחמשים שניות. סימנם ק\"ד נח\"ן. ונמצא שארית מהלכו בעשרת אלפים יום שכ\"ט מעלות ומ\"ח חלקים ועשרים שניות. סימנם שכ\"ט מח\"כ. ונמצא שארית מהלכו בכ\"ט יום י\"ח מעלות ונ\"ג חלקים וד' שניות. סימנם י\"ח נג\"ד.\n",
    "\n",
    "</div>\n"
   ]
  },
  {
   "cell_type": "markdown",
   "metadata": {},
   "source": [
    "\n",
    "**<div style=\"direction:rtl\">הלכה ד':</div>**\n",
    "<div style=\"direction:rtl\">\n",
    "ונמצא שארית מהלכו בשנה סדורה ש\"ה מעלות וי\"ג שניות בלא חלקים. סימנם ש\"ה י\"ג. מקום אמצע הירח היה בתחלת ליל חמישי שהוא העיקר לחשבונות אלו במזל שור מעלה אחת וי\"ד חלקים ומ\"ג שניות. סימנם א' י\"ד מ\"ג. ואמצע המסלול היה בעיקר זה פ\"ד מעלות וכ\"ח חלקים ומ\"ב שניות. סימנם פ\"ד כ\"ח מ\"ב. מאחר שתדע מהלך אמצע הירח והאמצע שהוא העיקר שעליו תוסיף. תדע מקום אמצע הירח בכל יום שתרצה על דרך שעשית באמצע השמש. ואחר שתוציא אמצע הירח לתחלת הלילה שתרצה התבונן בשמש ודע באי זה מזל הוא.\n",
    "\n",
    "</div>\n"
   ]
  },
  {
   "cell_type": "markdown",
   "metadata": {},
   "source": [
    "\n",
    "**<div style=\"direction:rtl\">הלכה ה':</div>**\n",
    "<div style=\"direction:rtl\">\n",
    "אם היתה השמש מחצי מזל דגים עד חצי מזל טלה. תניח אמצע הירח כמות שהוא. ואם תהיה השמש מחצי מזל טלה עד תחלת מזל תאומים. תוסיף על אמצע הירח ט\"ו חלקים. ואם תהיה השמש מתחלת מזל תאומים עד תחלת מזל אריה. תוסיף על אמצע הירח ט\"ו חלקים. ואם תהיה השמש מתחלת מזל אריה עד חצי מזל בתולה תוסיף על אמצע הירח ט\"ו חלקים. ואם תהיה השמש מחצי מזל בתולה עד חצי מזל מאזנים. הנח אמצע הירח כמות שהוא. ואם תהיה השמש מחצי מזל מאזנים עד תחלת מזל קשת. תגרע מאמצע הירח ט\"ו חלקים. ואם תהיה השמש מתחלת מזל קשת עד תחלת מזל דלי. תגרע מאמצע הירח ל' חלקים. ואם תהיה השמש מתחלת מזל דלי עד חצי מזל דגים. תגרע מאמצע הירח ט\"ו חלקים.\n",
    "\n",
    "</div>\n"
   ]
  },
  {
   "cell_type": "markdown",
   "metadata": {},
   "source": [
    "\n",
    "**<div style=\"direction:rtl\">הלכה ו':</div>**\n",
    "<div style=\"direction:rtl\">\n",
    "ומה שיהיה האמצע אחר שתוסיף עליו או תגרע ממנו או תניח אותו כמות שהוא. הוא אמצע הירח לאחר שקיעת החמה בכמו שליש שעה באותו הזמן שתוציא האמצע לו. וזה הוא הנקרא אמצע הירח לשעת הראיה\n",
    "</div>"
   ]
  },
  {
   "attachments": {},
   "cell_type": "markdown",
   "metadata": {},
   "source": [
    "## <center><div style=\"direction:rtl\">פרק ט\"ו</div></center>\n"
   ]
  },
  {
   "cell_type": "markdown",
   "metadata": {},
   "source": [
    "**<div style=\"direction:rtl\">הלכה א':</div>**\n",
    "<div style=\"direction:rtl\">\n",
    "אם תרצה לידע מקום הירח האמתי בכל יום שתרצה. תוציא תחלה אמצע הירח לשעת הראייה לאותו הלילה שתרצה. וכן תוציא אמצע המסלול ואמצע השמש לאותו העת. ותגרע אמצע השמש מאמצע הירח. והנשאר תכפול אותו. וזהו הנקרא מרחק הכפול.\n",
    "\n",
    "</div>\n"
   ]
  },
  {
   "cell_type": "markdown",
   "metadata": {},
   "source": [
    "\n",
    "**<div style=\"direction:rtl\">הלכה ב':</div>**\n",
    "<div style=\"direction:rtl\">\n",
    "וכבר הודענו שלא באנו בכל אלו החשבונות שעשינו בפרקים אלו אלא לדעת ראיית הירח. ולעולם אי אפשר שיהיה מרחק זה הכפול בליל הראייה שיראה בה הירח אלא מחמש מעלות עד ס\"ב מעלות. ואי אפשר שיוסיף על זה ולא יגרע ממנו.\n",
    "\n",
    "</div>\n"
   ]
  },
  {
   "cell_type": "markdown",
   "metadata": {},
   "source": [
    "\n",
    "**<div style=\"direction:rtl\">הלכה ג':</div>**\n",
    "<div style=\"direction:rtl\">\n",
    "והואיל והדבר כן. התבונן במרחק זה הכפול. אם יהיה המרחק הכפול חמש מעלות או קרוב לחמש אין חוששין לתוספת ולא תוסיף כלום. ואם יהיה המרחק הכפול משש מעלות עד אחד עשר מעלות תוסיף על אמצע המסלול מעלה אחת. ואם יהיה מרחק הכפול משתים עשר מעלות עד י\"ח מעלות תוסיף על אמצע המסלול שתי מעלות. ואם יהיה המרחק הכפול מי\"ט מעלות עד כ\"ד מעלות תוסיף על אמצע המסלול שלש מעלות. ואם יהיה המרחק הכפול מכ\"ה מעלות עד ל\"א מעלות תוסיף על אמצע המסלול ד' מעלות. ואם יהיה המרחק הכפול מל\"ב מעלות עד ל\"ח מעלות תוסיף על אמצע המסלול ה' מעלות. ואם יהיה המרחק הכפול מל\"ט מעלות עד מ\"ה מעלות תוסיף על אמצע המסלול שש מעלות. ואם יהיה המרחק הכפול ממ\"ו מעלות עד נ\"א מעלות תוסיף על אמצע המסלול שבע מעלות. ואם יהיה המרחק הכפול מנ\"ב מעלות עד נ\"ט מעלות תוסיף על אמצע המסלול ח' מעלות. ואם יהיה המרחק הכפול מס' מעלות עד ס\"ג מעלות תוסיף על אמצע המסלול ט' מעלות. ומה שיהיה אמצע המסלול אחר שתוסיף עליו מעלות אלו הוא הנקרא מסלול הנכון.\n",
    "\n",
    "</div>\n"
   ]
  },
  {
   "cell_type": "markdown",
   "metadata": {},
   "source": [
    "\n",
    "**<div style=\"direction:rtl\">הלכה ד':</div>**\n",
    "<div style=\"direction:rtl\">\n",
    "ואחר כך תראה כמה מעלות הוא המסלול הנכון. אם היה פחות מק\"פ מעלות תגרע מנת המסלול הזה הנכון מאמצע הירח לשעת הראייה. ואם היה המסלול הנכון יותר על ק\"פ מעלות עד ש\"ס תוסיף מנת זה המסלול הנכון על אמצע הירח לשעת הראייה. ומה שיהיה האמצע אחר שתוסיף עליו או תגרע ממנו הוא מקום הירח האמיתי לשעת הראייה.\n",
    "\n",
    "</div>\n"
   ]
  },
  {
   "cell_type": "markdown",
   "metadata": {},
   "source": [
    "\n",
    "**<div style=\"direction:rtl\">הלכה ה':</div>**\n",
    "<div style=\"direction:rtl\">\n",
    "ודע שאם יהיה המסלול הנכון ק\"פ בשוה או ש\"ס בשוה אין לו מנה. אלא יהיה מקום הירח האמצעי לשעת הראייה הוא מקום האמיתי.\n",
    "\n",
    "</div>\n"
   ]
  },
  {
   "cell_type": "markdown",
   "metadata": {},
   "source": [
    "\n",
    "**<div style=\"direction:rtl\">הלכה ו':</div>**\n",
    "<div style=\"direction:rtl\">\n",
    "וכמה הוא מנת המסלול. אם יהיה המסלול הנכון עשר מעלות תהיה מנתו נ' חלקים. ואם יהיה המסלול הנכון כ' מעלות תהיה מנתו מעלה אחת ול\"ח חלקים. ואם יהיה שלשים תהיה מנתו שתי מעלות וכ\"ד חלקים. ואם יהיה מ' תהיה מנתו שלש מעלות וששה חלקים. ואם יהיה נ' תהיה מנתו שלש מעלות ומ\"ד חלקים. ואם יהיה ס' תהיה מנתו ארבע מעלות וט\"ז חלקים. ואם יהיה ע' תהיה מנתו ארבע מעלות ומ\"א חלקים. ואם יהיה פ' תהיה מנתו חמש מעלות. ואם יהיה צ' תהיה מנתו חמש מעלות וה' חלקים. ואם יהיה ק' תהיה מנתו ה' מעלות וח' חלקים. ואם יהיה ק\"י תהיה מנתו ד' מעלות ונ\"ט חלקים. ואם יהיה ק\"כ תהיה מנתו ד' מעלות וכ' חלקים. ואם יהיה ק\"ל תהיה מנתו ד' מעלות וי\"א חלקים. ואם יהיה ק\"מ תהיה מנתו ג' מעלות ול\"ג חלקים. ואם יהיה ק\"נ תהיה מנתו שלש מעלות ומ\"ח חלקים. ואם יהיה ק\"ס תהיה מנתו מעלה אחת ונ\"ו חלקים. ואם יהיה ק\"ע תהיה מנתו מעלה אחת ונ\"ט חלקים. ואם יהיה ק\"פ בשוה אין לו מנה כמו שאמרנו אלא מקום הירח האמצעי הוא מקום האמיתי.\n",
    "\n",
    "</div>\n"
   ]
  },
  {
   "cell_type": "markdown",
   "metadata": {},
   "source": [
    "\n",
    "**<div style=\"direction:rtl\">הלכה ז':</div>**\n",
    "<div style=\"direction:rtl\">\n",
    "ואם יהיה המסלול הנכון יותר על ק\"פ מעלות. תגרע אותו מש\"ס ותדע מנתו כדרך שעשית במסלול השמש. וכן אם יהיו במנין המסלול אחדים עם העשרות תקח מן היותר שבין שתי המנות האחדים. כדרך שביארנו במסלול השמש במנות שלו כך תעשה במסלול הנכון במנות שלו.\n",
    "\n",
    "</div>\n"
   ]
  },
  {
   "cell_type": "markdown",
   "metadata": {},
   "source": [
    "\n",
    "**<div style=\"direction:rtl\">הלכה ח':</div>**\n",
    "<div style=\"direction:rtl\">\n",
    "כיצד הרי שרצינו לידע מקום הירח האמיתי בתחלת ליל ערב שבת שיומו שני לחדש אייר משנה זו שהיא שנת העיקר. ומנין הימים הגמורים מתחלת ליל העיקר עד תחילת ליל זה שאנו רוצים לידע מקום הירח האמיתי בו כ\"ט יום. תוציא אמצע השמש תחלת ליל זה. יצא לך אמצעו ל\"ה מעלות ול\"ח חלקים ול\"ג שניות. סימנם ל\"ה ל\"ח ל\"ג. ותוציא אמצע הירח לשעת הראייה לעת זו. יצא לך אמצעו נ\"ג מעלות ול\"ו חלקים ול\"ט שניות. סימנם נ\"ג ל\"ו ל\"ט. ותוציא אמצע המסלול לעת זו יצא לך אמצעו ק\"ג מעלות וכ\"א חלקים ומ\"ו שניות. סימנם ק\"ג כ\"א מ\"ו. תגרע אמצע השמש מאמצע הירח ישאר י\"ז מעלות ונ\"ח חלקים ושש שניות. וזה הוא המרחק. תכפול אותו יצא לך המרחק הכפול ל\"ה מעלות ונ\"ו חלקים וי\"ב שניות. סימנם ל\"ה נ\"ו י\"ב. לפיכך תוסיף על אמצע המסלול חמש מעלות כמו שהודענו ויצא לך המסלול הנכון ק\"פ מעלות וכ\"א חלקים. ואין מקפידין על החלקים במסלול כדרך שביארנו בשמש.\n",
    "\n",
    "</div>\n"
   ]
  },
  {
   "cell_type": "markdown",
   "metadata": {},
   "source": [
    "\n",
    "**<div style=\"direction:rtl\">הלכה ט':</div>**\n",
    "<div style=\"direction:rtl\">\n",
    "ובאנו לחקור על מנת זה המסלול הנכון שהוא ק\"ח נמצאת מנה שלו חמש מעלות וחלק אחד. ולפי שהמסלול הנכון היה פחות מק\"פ תגרע המנה שהוא חמש מעלות וחלק אחד מן אמצע הירח. ישאר מ\"ח מעלות ול\"ג חלקים ול\"ט שניות. תעשה השניות חלק ותוסיף על החלקים. ונמצא מקום הירח האמיתי בשעה זו במזל שור בי\"ח מעלות ול\"ו חלקים ממעלת י\"ט. סימנם י\"ח ל\"ו. ועל הדרך הזה תדע מקום הירח האמיתי בכל עת ראיה שתרצה מתחלת שנה זו שהיא העיקר עד סוף העולם\n",
    "</div>"
   ]
  },
  {
   "attachments": {},
   "cell_type": "markdown",
   "metadata": {},
   "source": [
    "## <center><div style=\"direction:rtl\">פרק ט\"ז</div></center>\n"
   ]
  },
  {
   "cell_type": "markdown",
   "metadata": {},
   "source": [
    "**<div style=\"direction:rtl\">הלכה א':</div>**\n",
    "<div style=\"direction:rtl\">\n",
    "העגולה שסובבת בה הירח תמיד היא נוטה מעל העגולה שסובבת בה השמש תמיד. חציה נוטה לצפון וחציה נוטה לדרום. ושתי נקודות יש בה זו כנגד זו שבהן פוגעות שתי העגולות זו בזו. לפיכך כשיהיה הירח באחת משתיהן נמצא סובב בעגולה של שמש כנגד השמש בשוה. ואם יצא הירח מאחת משתי הנקודות נמצא מהלך לצפון השמש או לדרומה. הנקודה שממנה יתחיל הירח לנטות לצפון השמש היא הנקראת ראש. והנקודה שממנה יתחיל הירח לנטות לדרום השמש היא הנקראת זנב. ומהלך שוה יש לזה הראש שאין בו לא תוספת ולא גרעון. והוא הולך במזלות אחרונית מטלה לדגים ומדגים לדלי וכן הוא סובב תמיד.\n",
    "\n",
    "</div>\n"
   ]
  },
  {
   "cell_type": "markdown",
   "metadata": {},
   "source": [
    "\n",
    "**<div style=\"direction:rtl\">הלכה ב':</div>**\n",
    "<div style=\"direction:rtl\">\n",
    "מהלך הראש האמצעי ביום אחד ג' חלקים וי\"א שניות. נמצא מהלכו בי' ימים ל\"א חלקים ומ\"ז שניות. ונמצא מהלכו בק' יום ה' מעלות י\"ז חלקים ומ\"ג שניות. סימנם הי\"ז מ\"ג. ונמצא מהלכו באלף יום נ\"ב מעלות ונ\"ז חלקים וי' שניות. סימנם נ\"ב נז\"י. ונמצא שארית מהלכו בעשרת אלפים יום קס\"ט מעלות ול\"א חלקים ומ' שניות. סימנם קס\"ט לא\"מ. ונמצא מהלכו לכ\"ט יום מעלה אחת ול\"ב חלקים וט' שניות. וסימנם א' לב\"ט. ונמצא מהלכו לשנה סדורה י\"ח מעלות ומ\"ד חלקים ומ\"ב שניות. סימנם י\"ח מ\"ד מ\"ב. ואמצע הראש בתחלת ליל ה' שהוא העיקר היה ק\"פ מעלות ונ\"ז חלקים וכ\"ח שניות. סימנם ק\"פ נ\"ז כ\"ח.\n",
    "\n",
    "</div>\n"
   ]
  },
  {
   "cell_type": "markdown",
   "metadata": {},
   "source": [
    "\n",
    "**<div style=\"direction:rtl\">הלכה ג':</div>**\n",
    "<div style=\"direction:rtl\">\n",
    "אם תרצה לידע מקום הראש בכל עת שתרצה. תוציא אמצעם לאותו העת כדרך שתוציא אמצע השמש ואמצע הירח. ותגרע האמצע מש\"ס מעלות. והנשאר הוא מקום הראש באותו העת. וכנגדו לעולם יהיה מקום הזנב.\n",
    "\n",
    "</div>\n"
   ]
  },
  {
   "cell_type": "markdown",
   "metadata": {},
   "source": [
    "\n",
    "**<div style=\"direction:rtl\">הלכה ד':</div>**\n",
    "<div style=\"direction:rtl\">\n",
    "כיצד הרי שרצינו לידע מקום הראש לתחלת ליל ערב שבת שיומו שני לחדש אייר משנה זו שהיא שנת העיקר. ומנין הימים הגמורים מתחלת ליל העיקר עד תחלת ליל זו שאנו רוצים לידע מקום הראש בו כ\"ט יום.\n",
    "\n",
    "</div>\n"
   ]
  },
  {
   "cell_type": "markdown",
   "metadata": {},
   "source": [
    "\n",
    "**<div style=\"direction:rtl\">הלכה ה':</div>**\n",
    "<div style=\"direction:rtl\">\n",
    "תוציא אמצע הראש לעת הזאת על הדרך שידעת. והוא שתוסיף מהלכו לכ\"ט על העיקר. יצא לך אמצע הראש קפ\"ב מעלות וכ\"ט חלקים ול\"ז שניות. סימנם קפ\"ב כ\"ט ל\"ז. תגרע אמצע זה מש\"ס ישאר לך קע\"ז מעלות ול' חלקים וכ\"ג שניות. סימנם קע\"ז לכ\"ג. וזה הוא מקום הראש. ואל תפנה אל השניות. נמצא מקום הראש במזל בתולה כ\"ז מעלות ול' חלקים. ומקום הזנב כנגדו במזל דגים בכ\"ז מעלות ול' חלקים.\n",
    "\n",
    "</div>\n"
   ]
  },
  {
   "cell_type": "markdown",
   "metadata": {},
   "source": [
    "\n",
    "**<div style=\"direction:rtl\">הלכה ו':</div>**\n",
    "<div style=\"direction:rtl\">\n",
    "לעולם יהיה בין הראש ובין הזנב חצי הגלגל בשוה. לפיכך כל מזל שתמצא בו מקום הראש יהיה הזנב במזל ז' ממנו בכמו מנין המעלות והחלקים בשוה. אם יהיה הראש בי' מעלות במזל פלוני יהיה הזנב בי' מעלות ממזל ז' ממנו.\n",
    "\n",
    "</div>\n"
   ]
  },
  {
   "cell_type": "markdown",
   "metadata": {},
   "source": [
    "\n",
    "**<div style=\"direction:rtl\">הלכה ז':</div>**\n",
    "<div style=\"direction:rtl\">\n",
    "ומאחר שתדע מקום הראש ומקום הזנב ומקום הירח האמיתי. התבונן בשלשתן. אם מצאת הירח עם הראש או עם הזנב במעלה אחת בחלק אחד. תדע שאין הירח נוטה לא לצפון השמש ולא לדרומה. ואם ראית מקום הירח לפני מקום הראש והוא הולך כנגד הזנב. תדע שהירח נוטה לצפון השמש. ואם היה הירח לפני מקום הזנב והרי הוא הולך כנגד הראש. תדע שהירח נוטה לדרום השמש.\n",
    "\n",
    "</div>\n"
   ]
  },
  {
   "cell_type": "markdown",
   "metadata": {},
   "source": [
    "\n",
    "**<div style=\"direction:rtl\">הלכה ח':</div>**\n",
    "<div style=\"direction:rtl\">\n",
    "הנטיה שנוטה הירח לצפון השמש או לדרומה. היא הנקראת רוחב הירח. אם היה נוטה לצפון נקרא רוחב צפוני. ואם היה נוטה לדרום נקרא רוחב דרומי. ואם היה הירח באחת משתי הנקודות לא יהיה לו רוחב כמו שביארנו.\n",
    "\n",
    "</div>\n"
   ]
  },
  {
   "cell_type": "markdown",
   "metadata": {},
   "source": [
    "\n",
    "**<div style=\"direction:rtl\">הלכה ט':</div>**\n",
    "<div style=\"direction:rtl\">\n",
    "לעולם לא יהיה רוחב הירח יתר על ה' מעלות בין בצפון בין בדרום. אלא כך הוא דרכו יתחיל מן הראש ויתרחק מעט מעט. והמרחק הולך ונוסף עד שיגיע לחמש מעלות. ויחזור ויתקרב מעט מעט עד שלא יהיה לו רוחב כשיגיע לזנבו. ויחזור ויתרחק מעט מעט והמרחק נוסף עד שיגיע לחמש מעלות. ויחזור ויתקרב מעט מעט עד שלא יהיה לו רוחב.\n",
    "\n",
    "</div>\n"
   ]
  },
  {
   "cell_type": "markdown",
   "metadata": {},
   "source": [
    "\n",
    "**<div style=\"direction:rtl\">הלכה י':</div>**\n",
    "<div style=\"direction:rtl\">\n",
    "אם תרצה לידע רוחב הירח כמה הוא בכל עת שתרצה. ואם צפוני הוא או דרומי. תוציא מקום הראש ומקום הירח האמיתי לאותה העת. ותגרע מקום הראש ממקום הירח האמיתי. והנשאר הוא הנקרא מסלול הרוחב. ואם יהיה מסלול הרוחב ממעלה אחת עד ק\"פ. תדע שרוחב הירח צפוני. ואם היה המסלול יתר על ק\"פ תדע שרוחב הירח דרומי. ואם היה מאה ושמונים בשוה או ש\"ס בשוה אין לירח רוחב כלל. ותחזור ותראה מנת מסלול הרוחב כמה היא. והוא שיעור נטייתו לצפון או לדרום. והוא הנקרא רוחב הירח הדרומי או הצפוני כמו שביארנו.\n",
    "\n",
    "</div>\n"
   ]
  },
  {
   "cell_type": "markdown",
   "metadata": {},
   "source": [
    "\n",
    "**<div style=\"direction:rtl\">הלכה י\"א:</div>**\n",
    "<div style=\"direction:rtl\">\n",
    "וכמה היא מנת מסלול הרוחב. אם יהיה מסלול הרוחב עשר מעלות תהיה מנתו נ\"ב חלקים. ואם יהיה המסלול הזה כ' מעלות תהיה מנתו מעלה אחת ומ\"ג חלקים. ואם יהיה המסלול ל' תהיה מנתו שתי מעלות ול' חלקים. ואם יהיה המסלול מ' תהיה מנתו שלש מעלות וי\"ג חלקים. ואם יהיה המסלול נ' מעלות תהיה מנתו שלש מעלות ונ' חלקים. ואם יהיה המסלול ס' תהיה מנתו ארבע מעלות וכ' חלקים. ואם יהיה המסלול ע' תהיה מנתו ד' מעלות ומ\"ב חלקים. ואם יהיה המסלול פ' תהיה מנתו ד' מעלות ונ\"ה חלקים. ואם יהיה המסלול צ' תהיה מנתו ה' מעלות.\n",
    "\n",
    "</div>\n"
   ]
  },
  {
   "cell_type": "markdown",
   "metadata": {},
   "source": [
    "\n",
    "**<div style=\"direction:rtl\">הלכה י\"ב:</div>**\n",
    "<div style=\"direction:rtl\">\n",
    "ואם יהיו אחדים עם העשרות תקח הראוי להם לפי היתר שבין שתי המנות כמו שעשית במסלול השמש ובמסלול הירח. כיצד הרי שהיה מסלול הרוחב נ\"ג מעלות. וכבר ידעת שאילו היה המסלול נ' היתה מנתו שלש מעלות ונ' חלקים. ואילו היה המסלול ס' היתה מנתו ד' מעלות וכ' חלקים. נמצא היתר בין שתי המנות ל' חלקים ג' חלקים לכל מעלה. ונמצא לפי חשבון מסלול זה שהוא נ\"ג שלש מעלות ונ\"ט חלקים. ועל דרך זו תעשה בכל מנין ומנין.\n",
    "\n",
    "</div>\n"
   ]
  },
  {
   "cell_type": "markdown",
   "metadata": {},
   "source": [
    "\n",
    "**<div style=\"direction:rtl\">הלכה י\"ג:</div>**\n",
    "<div style=\"direction:rtl\">\n",
    "מאחר שתדע מנתו של מסלול הרוחב עד צ' כמו שהודענוך. תדע מנות של כל מניינות המסלול. שאם יהיה המסלול יתר על צ' עד ק\"פ תגרע המסלול מק\"פ והנשאר תדע בו המנה.\n",
    "\n",
    "</div>\n"
   ]
  },
  {
   "cell_type": "markdown",
   "metadata": {},
   "source": [
    "\n",
    "**<div style=\"direction:rtl\">הלכה י\"ד:</div>**\n",
    "<div style=\"direction:rtl\">\n",
    "וזה הוא רוחב הירח בתחלת ליל זה. והוא דרומי שהרי המסלול יתר על ק\"פ. וכן אם היה המסלול יתר מק\"פ עד ר\"ע תגרע ממנו ק\"פ והנשאר תדע בו המנה.\n",
    "\n",
    "</div>\n"
   ]
  },
  {
   "cell_type": "markdown",
   "metadata": {},
   "source": [
    "\n",
    "**<div style=\"direction:rtl\">הלכה ט\"ו:</div>**\n",
    "<div style=\"direction:rtl\">\n",
    "ואם היה המסלול יותר על ר\"ע עד ש\"ס. תגרע אותו מש\"ס והנשאר תדע בו המנה.\n",
    "\n",
    "</div>\n"
   ]
  },
  {
   "cell_type": "markdown",
   "metadata": {},
   "source": [
    "\n",
    "**<div style=\"direction:rtl\">הלכה ט\"ז:</div>**\n",
    "<div style=\"direction:rtl\">\n",
    "כיצד הרי שהיה המסלול ק\"נ תגרע אותו מק\"פ נשאר ל'. וכבר ידעת שמנת שלשים שתי מעלות ושלשים חלקים וכך תהיה מנת ק\"נ שתי מעלות ושלשים חלקים.\n",
    "\n",
    "</div>\n"
   ]
  },
  {
   "cell_type": "markdown",
   "metadata": {},
   "source": [
    "\n",
    "**<div style=\"direction:rtl\">הלכה י\"ז:</div>**\n",
    "<div style=\"direction:rtl\">\n",
    "הרי שהיה המסלול ר'. תגרע ממנו ק\"פ ישאר כ'. וכבר ידעת שמנת כ' היא מעלה אחת ומ\"ג חלקים. וכן אם תהיה מנת ר' תהיה מעלה אחת ומ\"ג חלקים.\n",
    "\n",
    "</div>\n"
   ]
  },
  {
   "cell_type": "markdown",
   "metadata": {},
   "source": [
    "\n",
    "**<div style=\"direction:rtl\">הלכה י\"ח:</div>**\n",
    "<div style=\"direction:rtl\">\n",
    "הרי שהיה המסלול ש' תגרע אותו מש\"ס נשאר ס'. וכבר ידעת שמנת ששים ארבע מעלות וכ' חלקים. וכך היא מנת ש' ד' מעלות וכ' חלקים. ועל דרך זו בכל המניינות.\n",
    "\n",
    "</div>\n"
   ]
  },
  {
   "cell_type": "markdown",
   "metadata": {},
   "source": [
    "\n",
    "**<div style=\"direction:rtl\">הלכה י\"ט:</div>**\n",
    "<div style=\"direction:rtl\">\n",
    "הרי שרצינו לידע רוחב הירח כמה הוא ובאיזו רוח הוא אם צפוני ואם דרומי בתחלת ליל ערב שבת שני לחדש אייר משנה זו. וכבר ידעת שמקום הירח האמיתי היה בליל זה בי\"ח מעלות ול\"ו חלקים ממזל שור. סימנו י\"ח ל\"ו. ומקום הראש היה באותה העת בכ\"ז מעלות ול' חלקים ממזל בתולה. סימנו כז\"ל. תגרע מקום הראש ממקום הירח. יצא לך מסלול הרוחב רל\"א מעלות ו' חלקים. סימנו רל\"א ו'. לפי שאין משגיחין על החלקים בכל המסלול. ונמצאת המנה של מסלול זה בדרכים שביארנו בפרק זה שלש מעלות ונ\"ג חלקים. וזהו רוחב הירח בתחלת ליל זה. והוא דרומי שהרי המסלול יתר על ק\"פ\n",
    "</div>"
   ]
  },
  {
   "attachments": {},
   "cell_type": "markdown",
   "metadata": {},
   "source": [
    "## <center><div style=\"direction:rtl\">פרק י\"ז</div></center>\n"
   ]
  },
  {
   "cell_type": "markdown",
   "metadata": {},
   "source": [
    "**<div style=\"direction:rtl\">הלכה א':</div>**\n",
    "<div style=\"direction:rtl\">\n",
    "כל הדברים שהקדמנו כדי שיהיו עתידים ומוכנים לידיעת הראיה. וכשתרצה לדעת זאת תתחיל ותחשוב ותוציא מקום השמש האמיתי ומקום הירח האמיתי ומקום הראש לשעת הראיה. ותגרע מקום השמש האמיתי ממקום הירח האמיתי והנשאר הוא הנקרא אורך ראשון.\n",
    "\n",
    "</div>\n"
   ]
  },
  {
   "cell_type": "markdown",
   "metadata": {},
   "source": [
    "\n",
    "**<div style=\"direction:rtl\">הלכה ב':</div>**\n",
    "<div style=\"direction:rtl\">\n",
    "ומאחר שתדע מקום הראש ומקום הירח תדע מקום הירח כמה הוא. ואם הוא רוחב צפוני או דרומי והוא הנקרא רוחב ראשון. והזהר באורך הזה ראשון וברוחב הראשון ויהיו שניהם מוכנים לך.\n",
    "\n",
    "</div>\n"
   ]
  },
  {
   "cell_type": "markdown",
   "metadata": {},
   "source": [
    "\n",
    "**<div style=\"direction:rtl\">הלכה ג':</div>**\n",
    "<div style=\"direction:rtl\">\n",
    "והתבונן באורך הזה הראשון וברוחב הזה הראשון. אם יצא לך תשע מעלות בשוה או פחות. תדע בודאי שאי אפשר לעולם שיראה הירח באותו הלילה בכל ארץ ישראל ואין אתה צריך חשבון אחר. ואם יהיה האורך הראשון יתר על ט\"ו מעלות תדע בודאי שהירח יראה בכל ארץ ישראל ואין אתה צריך לחשבון אחר. ואם יהיה האורך הראשון מט' מעלות ועד ט\"ו תצטרך לדרוש ולחקור בחשבונות הראיה עד שתדע אם יראה או לא יראה.\n",
    "\n",
    "</div>\n"
   ]
  },
  {
   "cell_type": "markdown",
   "metadata": {},
   "source": [
    "\n",
    "**<div style=\"direction:rtl\">הלכה ד':</div>**\n",
    "<div style=\"direction:rtl\">\n",
    "במה דברים אמורים כשהיה מקום הירח האמיתי מתחלת מזל גדי עד סוף מזל תאומים. אבל אם היה מקום הירח מתחלת מזל סרטן עד סוף מזל קשת ויהיה אורך הראשון עשר מעלות או פחות. תדע שאין הירח נראה כלל באותו הלילה בכל ארץ ישראל. ואם היה הראשון יתר על כ\"ד מעלות ודאי יראה בכל גבול ישראל. ואם יהיה האורך הראשון מעשר מעלות ועד עשרים וארבע תצטרך לדרוש ולחקור בחשבונות הראיה אם יראה או לא יראה.\n",
    "\n",
    "</div>\n"
   ]
  },
  {
   "cell_type": "markdown",
   "metadata": {},
   "source": [
    "\n",
    "**<div style=\"direction:rtl\">הלכה ה':</div>**\n",
    "<div style=\"direction:rtl\">\n",
    "ואלו הן חשבונות הראיה. התבונן וראה הירח באיזה מזל הוא. אם יהיה במזל טלה תגרע מן האורך הראשון נ\"ט חלקים. ואם יהיה במזל שור תגרע מן האורך מעלה אחת. ואם יהיה במזל תאומים תגרע מן האורך נ\"ח חלקים. ואם יהיה במזל סרטן תגרע מן האורך מ\"ג חלקים. ואם יהיה במזל אריה תגרע מן האורך מ\"ג חלקים. ואם יהיה במזל בתולה תגרע מן האורך ל\"ז חלקים. ואם יהיה במזל מאזנים תגרע מן האורך ל\"ד חלקים. ואם יהיה במזל עקרב תגרע מן האורך ל\"ד חלקים. ואם יהיה במזל קשת תגרע מן האורך ל\"ו חלקים. ואם יהיה במזל גדי תגרע מן האורך מ\"ד חלקים. ואם יהיה במזל דלי תגרע מן האורך נ\"ג חלקים. ואם יהיה במזל דגים תגרע מן האורך נ\"ח חלקים. והנשאר מן האורך אחר שתגרע ממנו אלו החלקים הוא הנקרא אורך שני.\n",
    "\n",
    "</div>\n"
   ]
  },
  {
   "cell_type": "markdown",
   "metadata": {},
   "source": [
    "\n",
    "**<div style=\"direction:rtl\">הלכה ו':</div>**\n",
    "<div style=\"direction:rtl\">\n",
    "ולמה גורעין חלקים אלו. לפי שמקום הירח האמיתי אינו המקום שיראה בו אלא שינוי יש ביניהם באורך וברוחב. והוא הנקרא שינוי המראה. ושינוי מראה האורך בשעת הראיה לעולם גורעין אותו מן האורך כמו שאמרנו.\n",
    "\n",
    "</div>\n"
   ]
  },
  {
   "cell_type": "markdown",
   "metadata": {},
   "source": [
    "\n",
    "**<div style=\"direction:rtl\">הלכה ז':</div>**\n",
    "<div style=\"direction:rtl\">\n",
    "אבל שינוי מראה הרוחב. אם היה רוחב הירח צפוני גורעין חלקים של שינוי מראה הרוחב מן הרוחב הראשון. ואם היה רוחב הירח הדרומי מוסיפין החלקים של שינוי מראה הרוחב על הרוחב הראשון. ומה שיהיה הרוחב הראשון אחר שמוסיפין עליו או גורעין ממנו אותם החלקים הוא הנקרא רוחב שני.\n",
    "\n",
    "</div>\n"
   ]
  },
  {
   "cell_type": "markdown",
   "metadata": {},
   "source": [
    "\n",
    "**<div style=\"direction:rtl\">הלכה ח':</div>**\n",
    "<div style=\"direction:rtl\">\n",
    "וכמה הם החלקים שמוסיפין או גורעין אותן. אם יהיה הירח במזל טלה תשעה חלקים. ואם יהיה במזל שור י' חלקים. ואם יהיה במזל תאומים ט\"ז חלקים. ואם יהיה במזל סרטן כ\"ז חלקים. ואם יהיה במזל אריה ל\"ח חלקים. ואם יהיה במזל בתולה מ\"ד חלקים. ואם יהיה במזל מאזנים מ\"ו חלקים. ואם יהיה במזל עקרב מ\"ה חלקים. ואם יהיה במזל קשת מ\"ד חלקים. ואם יהיה במזל גדי ל\"ו חלקים. ואם יהיה במזל דלי כ\"ד חלקים. ואם יהיה במזל דגים י\"ב חלקים.\n",
    "\n",
    "</div>\n"
   ]
  },
  {
   "cell_type": "markdown",
   "metadata": {},
   "source": [
    "\n",
    "**<div style=\"direction:rtl\">הלכה ט':</div>**\n",
    "<div style=\"direction:rtl\">\n",
    "מאחר שתדע חלקים אלו תגרע אותן מן הרוחב הראשון או תוסיף אותן עליו כמו שהודענוך ויצא לך הרוחב השני. וכבר ידעת אם הוא צפוני או דרומי. ותדע כמה מעלות וכמה חלקים נעשה זה הרוחב השני ותכין אותו לפניך ויהיה עתיד.\n",
    "\n",
    "</div>\n"
   ]
  },
  {
   "cell_type": "markdown",
   "metadata": {},
   "source": [
    "\n",
    "**<div style=\"direction:rtl\">הלכה י':</div>**\n",
    "<div style=\"direction:rtl\">\n",
    "ואחר כך תחזור ותקח מן הרוחב השני הזה מקצתו. מפני שהירח נלוז מעט במעגלו. וכמה הוא המקצת שתקח ממנו. אם יהיה מקום הירח מתחלת מזל טלה עד כ' מעלות ממנו. או מתחלת מזל מאזנים עד כ' מעלות ממנו. תקח מן הרוחב השני שני חמישיו. ואם יהיה הירח מכ' ממזל טלה עד י' מעלות ממזל שור או מכ' ממזל מאזנים עד י' מעלות ממזל עקרב תקח מן הרוחב השני שלישיתו. ואם יהיה הירח מעשר מעלות ממזל שור עד כ' ממנו או מעשר מעלות ממזל עקרב עד כ' ממנו תקח מן הרוחב השני רביעיתו. ואם יהיה הירח מכ' מעלות ממזל שור עד סופו או מכ' ממזל עקרב עד סופו תקח מן הרוחב השני חמישיתו. ואם יהיה הירח מתחלת מזל תאומים עד עשר מעלות ממנו או מתחלת מזל קשת עד עשר מעלות ממנו תקח מן הרוחב השני שתותו. ואם יהיה הירח מי' מעלות ממזל תאומים ועד כ' ממנו או מעשר ממזל קשת עד כ' ממנו תקח מן הרוחב השני חצי שתותו. ואם יהיה מקום הירח מכ' ממזל תאומים עד כ\"ה ממנו או מכ' ממזל קשת עד כ\"ה ממנו תקח מן הרוחב השני רביע שתותו. ואם יהיה מקום הירח מכ\"ה ממזל תאומים עד חמש מעלות ממזל סרטן או מכ\"ה ממזל קשת עד חמש מעלות ממזל גדי לא תקח כלום. לפי שאין כאן נליזת מעגל. ואם יהיה הירח מחמש ממזל סרטן עד עשר ממנו או מחמש ממזל גדי עד עשר ממנו תקח מן הרוחב השני רביע שתותו. ואם יהיה מקום הירח מי' ממזל סרטן עד כ' ממנו או מעשר ממזל גדי עד עשרים ממנו תקח מן הרוחב השני חצי שתותו. ואם יהיה מקום הירח מכ' ממזל סרטן עד סופו או מכ' ממזל גדי עד סופו תקח מן הרוחב השני שתותו. ואם יהיה הירח מתחלת מזל אריה עד עשר מעלות ממנו או מתחלת מזל דלי עד עשר מעלות ממנו תקח ממנו הרוחב השני חמישיתו. ואם יהיה הירח מי' מעלות ממזל אריה עד כ' ממנו או מי' ממזל דלי עד כ' ממנו תקח מן הרוחב השני רביעיתו. ואם יהיה הירח מכ' ממזל אריה עד עשר ממזל בתולה או מכ' ממזל דלי עד עשר ממזל דגים תקח מן הרוחב השני שלישיתו. ואם יהיה הירח מעשר מעלות ממזל בתולה עד סופו או מי' מעלות ממזל דגים עד סופו תקח מן הרוחב השני ב' חמישיו. וזאת המקצת שתקח מן הרוחב השני היא הנקראת מעגל הירח.\n",
    "\n",
    "</div>\n"
   ]
  },
  {
   "cell_type": "markdown",
   "metadata": {},
   "source": [
    "\n",
    "**<div style=\"direction:rtl\">הלכה י\"א:</div>**\n",
    "<div style=\"direction:rtl\">\n",
    "ואחר כך תחזור ותתבונן ברוחב הירח ותראה אם הוא צפוני או דרומי. אם הוא צפוני תגרע מעגל הירח הזה מן האורך השני. ואם היה רוחב הירח דרומי תוסיף המעגל הזה על האורך השני. במה דברים אמורים כשהיה מקום הירח מתחלת מזל גדי עד סוף מזל תאומים. אבל אם היה הירח מתחלת מזל סרטן עד סוף מזל קשת יהיה הדבר הפך. שאם יהיה רוחב הירח צפוני תוסיף המעגל על האורך השני. ואם היה רוחב הירח דרומי תגרע המעגל מן האורך השני. ומה שיהיה האורך השני אחר שתוסיף עליו או תגרע ממנו הוא הנקרא אורך השלישי. ודע שאם לא יהיה שם נליזת מעגל ולא נתן החשבון לקחת מן הרוחב השני כלום. יהיה האורך הב' עצמו הוא האורך השלישי בלא פחות ובלא יתר.\n",
    "\n",
    "</div>\n"
   ]
  },
  {
   "cell_type": "markdown",
   "metadata": {},
   "source": [
    "\n",
    "**<div style=\"direction:rtl\">הלכה י\"ב:</div>**\n",
    "<div style=\"direction:rtl\">\n",
    "ואחר כך תחזור ותראה האורך השלישי הזה והוא המעלות שבין הירח והשמש באיזה מזל הוא. אם יהיה במזל דגים או במזל טלה. תוסיף על האורך השלישי שתותו. ואם יהיה האורך במזל דלי או במזל שור. תוסיף על האורך השלישי חמישיתו. ואם יהיה האורך במזל גדי או במזל תאומים. תוסיף על האורך השלישי שתותו. ואם יהיה האורך במזל קשת או במזל סרטן. תניח האורך השלישי כמות שהוא ולא תוסיף עליו ולא תגרע ממנו. ואם היה האורך במזל עקרב או במזל אריה. תגרע מן האורך השלישי חמישיתו. ואם יהיה האורך במזל מאזנים או במזל בתולה. תגרע מן האורך השלישי שלישיתו. ומה שיהיה האורך השלישי אחר שתוסיף עליו או תגרע ממנו או תניח אותו כמות שהוא. הוא הנקרא אורך רביעי. ואחר כך תחזור אצל רוחב הירח הראשון ותקח שני שלישיו לעולם. וזה הוא הנקרא מנת גובה המדינה. ותתבונן ותראה אם יהיה רוחב הירח צפוני. תוסיף מנת גובה המדינה על האורך הרביעי. ואם יהיה רוחב הירח דרומי. תגרע מנת גובה המדינה מן האורך הרביעי. ומה שיהיה האורך הרביעי אחר שגורעין ממנו או שמוסיפין עליו הוא הנקרא קשת הראייה.\n",
    "\n",
    "</div>\n"
   ]
  },
  {
   "cell_type": "markdown",
   "metadata": {},
   "source": [
    "\n",
    "**<div style=\"direction:rtl\">הלכה י\"ג:</div>**\n",
    "<div style=\"direction:rtl\">\n",
    "כיצד הרי שבאנו לחקור אם יראה הירח בליל ערב שבת שני לחדש אייר משנה זו או לא יראה. תוציא מקום השמש האמיתי ומקום הירח האמיתי ורוחב הירח לשנה זו כמו שהודענוך. יצא לך מקום השמש האמיתי בז' מעלות וט' חלקים ממזל שור. סימנו ז\"ט. ויצא לך מקום הירח האמיתי בי\"ח מעלות ול\"ו חלקים ממזל שור. סימנו י\"ח ל\"ו. ויצא לך רוחב הירח ברוח דרום שלש מעלות ונ\"ג חלקים. סימנו ג\"נ ג'. וזה הוא הרוחב הראשון. ותגרע מקום השמש ממקום הירח ישאר י\"א מעלות וכ\"ז חלקים. סימנו י\"א כ\"ז. וזה הוא האורך הראשון. ולפי שהיה הירח במזל שור יהיה שינוי מראה האורך מעלה אחת וראוי לגרוע אותה מן האורך הראשון. יצא לך האורך השני י' מעלות וכ\"ז חלקים. סימנו יכ\"ז. וכן יהיה שינוי מראה הרוחב י' חלקים. ולפי שרוחב הירח היה דרומי ראוי להוסיף עליו שינוי המראה שהוא עשרה חלקים. יצא לך הרוחב השני ד' מעלות וג' חלקים. סימנו ד\"ג. ולפי שהיה הירח בי\"ח מעלות ממזל שור ראוי ליקח מן הרוחב השני רביעיתו והוא הנקרא מעגל הירח. יצא לך מעגל הירח לעת זו מעלה אחת וחלק אחד לפי שאין מדקדקין בשניות.\n",
    "\n",
    "</div>\n"
   ]
  },
  {
   "cell_type": "markdown",
   "metadata": {},
   "source": [
    "\n",
    "**<div style=\"direction:rtl\">הלכה י\"ד:</div>**\n",
    "<div style=\"direction:rtl\">\n",
    "ולפי שרוחב הירח דרומי ומקום הירח האמיתי בין ראש גדי וראש סרטן. ראוי להוסיף המעגל על האורך השני. יצא לך האורך השלישי י\"א מעלות וכ\"ח חלקים. סימנו י\"א כ\"ח. ולפי שהאורך הזה במזל שור ראוי להוסיף על האורך השלישי חמישיתו שהוא שתי מעלות וי\"ח חלקים. ויצא לך האורך הרביעי י\"ג מעלות ומ\"ו חלקים. סימנו י\"ג מ\"ו. וחזרנו אצל הרוחב הראשון ולקחנו שני שלישיו ויצא מנת גובה המדינה והוא שתי מעלות ול\"ה חלקים. ולפי שהיה הרוחב דרומי. ראוי לגרוע ממנו מנת גובה המדינה מן האורך הרביעי. ישאר לך י\"א מעלות וי\"א חלקים. סימנו י\"א י\"א. וזו היא קשת הראיה בלילה הזה. ועל הדרך הזה תעשה ותדע קשת הראיה כמה מעלות וכמה חלקים יש בה בכל ליל ראיה שתרצה לעולם.\n",
    "\n",
    "</div>\n"
   ]
  },
  {
   "cell_type": "markdown",
   "metadata": {},
   "source": [
    "\n",
    "**<div style=\"direction:rtl\">הלכה ט\"ו:</div>**\n",
    "<div style=\"direction:rtl\">\n",
    "ואחר שתצא קשת זו תבין בה. ודע שאם תהיה קשת הראייה תשע מעלות או פחות (אז) [צ\"ל אי] אפשר שיראה בכל ארץ ישראל. ואם תהיה קשת הראייה יתר על י\"ד מעלות אי אפשר שלא יראה ויהיה גלוי לכל ארץ ישראל.\n",
    "\n",
    "</div>\n"
   ]
  },
  {
   "cell_type": "markdown",
   "metadata": {},
   "source": [
    "\n",
    "**<div style=\"direction:rtl\">הלכה ט\"ז:</div>**\n",
    "<div style=\"direction:rtl\">\n",
    "ואם תהיה קשת הראייה מתחלת מעלה עשירית עד סוף מעלה י\"ד. תערוך קשת הראייה אל האורך הראשון ותדע אם יראה או לא יראה מן הקיצין שיש לו. והן הנקראין קיצי הראיה.\n",
    "\n",
    "</div>\n"
   ]
  },
  {
   "cell_type": "markdown",
   "metadata": {},
   "source": [
    "\n",
    "**<div style=\"direction:rtl\">הלכה י\"ז:</div>**\n",
    "<div style=\"direction:rtl\">\n",
    "ואלו הן קיצי הראיה. אם תהיה קשת הראיה מיתר על ט' מעלות עד סוף עשר מעלות או יתר על עשר. ויהיה האורך הראשון י\"ג מעלות או יותר. ודאי יראה. ואם תהיה הקשת פחות מזה או יהיה האורך פחות מזה לא יראה.\n",
    "\n",
    "</div>\n"
   ]
  },
  {
   "cell_type": "markdown",
   "metadata": {},
   "source": [
    "\n",
    "**<div style=\"direction:rtl\">הלכה י\"ח:</div>**\n",
    "<div style=\"direction:rtl\">\n",
    "ואם תהיה קשת הראייה מיתר על עשר מעלות עד סוף י\"א מעלות או יתר על אחת עשרה. ויהיה האורך הראשון י\"ב מעלות או יותר. ודאי יראה. ואם תהיה הקשת פחות מזה או יהיה האורך פחות מזה לא יראה.\n",
    "\n",
    "</div>\n"
   ]
  },
  {
   "cell_type": "markdown",
   "metadata": {},
   "source": [
    "\n",
    "**<div style=\"direction:rtl\">הלכה י\"ט:</div>**\n",
    "<div style=\"direction:rtl\">\n",
    "ואם תהיה קשת הראייה מיתר על י\"א עד סוף י\"ב מעלות או יתר על י\"ב. ויהיה האורך הראשון י\"א מעלות או יותר ודאי יראה. ואם תהיה הקשת פחות מזה או יהיה האורך פחות מזה לא יראה.\n",
    "\n",
    "</div>\n"
   ]
  },
  {
   "cell_type": "markdown",
   "metadata": {},
   "source": [
    "\n",
    "**<div style=\"direction:rtl\">הלכה כ':</div>**\n",
    "<div style=\"direction:rtl\">\n",
    "ואם תהיה קשת הראייה מיתר על י\"ב מעלות עד סוף י\"ג מעלות או יתר על י\"ג. ויהיה האורך הראשון י' מעלות או יותר ודאי יראה. ואם תהיה הקשת פחות מזה או יהיה האורך פחות מזה לא יראה.\n",
    "\n",
    "</div>\n"
   ]
  },
  {
   "cell_type": "markdown",
   "metadata": {},
   "source": [
    "\n",
    "**<div style=\"direction:rtl\">הלכה כ\"א:</div>**\n",
    "<div style=\"direction:rtl\">\n",
    "ואם תהיה הראיה מיתר על י\"ג מעלות עד סוף י\"ד או יתר על י\"ד. ויהיה האורך הראשון תשע מעלות או יותר ודאי יראה. ואם תהיה הקשת פחות מזה או יהיה האורך פחות מזה לא יראה. ועד כאן סוף הקיצין.\n",
    "\n",
    "</div>\n"
   ]
  },
  {
   "cell_type": "markdown",
   "metadata": {},
   "source": [
    "\n",
    "**<div style=\"direction:rtl\">הלכה כ\"ב:</div>**\n",
    "<div style=\"direction:rtl\">\n",
    "כיצד באנו להתבונן בקשת הראייה של לילי ערב שבת שני לחדש אייר משנה זו. יצא לנו בחשבון קשת הראייה י\"א מעלות וי\"א חלקים כמו שידעת. ולפי שהיה קשת הראייה בין עשר עד ארבע עשרה ערכנו אותה אל האורך הראשון. וכבר ידעת שהאורך הזה בליל זה י\"א מעלות וכ\"ז חלקים. ולפי שהיתה קשת הראייה יתר על י\"א מעלות והיה האורך הראשון יתר על עשרה . יודע שודאי יראה בליל זה לפי הקצין הקצובות. וכן תשער בכל קשת וקשת עם האורך הראשון שלה.\n",
    "\n",
    "</div>\n"
   ]
  },
  {
   "cell_type": "markdown",
   "metadata": {},
   "source": [
    "\n",
    "**<div style=\"direction:rtl\">הלכה כ\"ג:</div>**\n",
    "<div style=\"direction:rtl\">\n",
    "וכבר ראית מן המעשים האלו כמה חשבונות יש בו וכמה תוספות וכמה גירועין אחר שיגענו הרבה. עד שהמציאנו דרכים קרובים שאין בחשבונם עומק גדול. שהירח עקלקלות גדולות יש במעגלותיו. ולפיכך אמרו חכמים שמש ידע מבואו ירח לא ידע מבואו. ואמרו חכמים פעמים בא בארוכה פעמים בא בקצרה. כמו שתראה מחשבונות אלו שפעמים תוסיף ופעמים תגרע עד שתהא קשת הראייה. ופעמים תהיה קשת הראייה ארוכה ופעמים קצרה כמו שביארנו.\n",
    "\n",
    "</div>\n"
   ]
  },
  {
   "cell_type": "markdown",
   "metadata": {},
   "source": [
    "\n",
    "**<div style=\"direction:rtl\">הלכה כ\"ד:</div>**\n",
    "<div style=\"direction:rtl\">\n",
    "וטעם כל אלו החשבונות ומפני מה מוסיפים מנין זה ומפני מה גורעין. והיאך נודע כל דבר ודבר מאלו הדברים. והראיה על כל דבר ודבר. היא חכמת התקופות והגימטריות שחברו בה חכמי יון ספרים הרבה והם הנמצאים עכשיו ביד החכמים. אבל הספרים שחברו חכמי ישראל שהיו בימי הנביאים מבני יששכר לא הגיעו אלינו. ומאחר שכל אלו הדברים בראיות ברורות הם שאין בהם דופי ואי אפשר לאדם להרהר אחריהם, אין חוששין למחבר בין שחברו אותם נביאים בין שחברו אותם האומות, שכל דבר שנתגלה טעמו ונודעה אמיתתו בראיות שאין בהם דופי אנו סומכין על זה האיש שאמרו או שלמדו על הראיה שנתגלתה והטעם שנודע.\n",
    "</div>"
   ]
  },
  {
   "attachments": {},
   "cell_type": "markdown",
   "metadata": {},
   "source": [
    "## <center><div style=\"direction:rtl\">פרק י\"ח</div></center>\n"
   ]
  },
  {
   "cell_type": "markdown",
   "metadata": {},
   "source": [
    "**<div style=\"direction:rtl\">הלכה א':</div>**\n",
    "<div style=\"direction:rtl\">\n",
    "דבר ידוע וברור שאם יוציא לך החשבון שהירח יראה בלילה. אפשר שיראה ואפשר שלא יראה מפני העבים שמכסין אותו או מפני המקום שהוא גיא או שיהיה הר גבוה כנגד רוח מערב לאנשי אותו המקום שנמצאו כאילו הן יושבין בגיא. שהירח לא יראה למי שהוא במקום נמוך אפילו היה גדול ויראה למי שהוא עומד בראש הר גבוה ותלול אע\"פ שהירח קטן ביותר. וכן יראה למי ששוכן על שפת הים או למי שמהלך בספינה בים הגדול אע\"פ שהוא קטן ביותר.\n",
    "\n",
    "</div>\n"
   ]
  },
  {
   "cell_type": "markdown",
   "metadata": {},
   "source": [
    "\n",
    "**<div style=\"direction:rtl\">הלכה ב':</div>**\n",
    "<div style=\"direction:rtl\">\n",
    "וכן בימות הגשמים אם יהיה יום צח יראה הירח יותר ממה שיראה בימות החמה. לפי שבימות הגשמים אם יהיה יום צח יהיה האויר זך הרבה ויראה הרקיע בטוהר יותר מפני שאין שם אבק שיתערב באויר. אבל בימות החמה יהיה האויר כאילו הוא מעושן מפני האבק ויראה הירח קטן.\n",
    "\n",
    "</div>\n"
   ]
  },
  {
   "cell_type": "markdown",
   "metadata": {},
   "source": [
    "\n",
    "**<div style=\"direction:rtl\">הלכה ג':</div>**\n",
    "<div style=\"direction:rtl\">\n",
    "וכל זמן שתמצא קשת הראייה והאורך הראשון שתערוך לה עם שני הקצין שלהם בצמצום. יהיה הירח קטן ביותר ולא יראה אלא במקום גבוה ביותר. ואם תמצא קשת הראייה והאורך הראשון ארוכין הרבה והוסיפו עד סוף הקצים שלהן ממעלות. יראה הירח גדול לפי אורך הקשת והאורך הראשון יהיה גדול וגלייתו לכל.\n",
    "\n",
    "</div>\n"
   ]
  },
  {
   "cell_type": "markdown",
   "metadata": {},
   "source": [
    "\n",
    "**<div style=\"direction:rtl\">הלכה ד':</div>**\n",
    "<div style=\"direction:rtl\">\n",
    "לפיכך ראוי לבית דין לשום שני דברים אלו בלבם, שהן זמן הראייה ומקומה ושואלין את העדים באי זה מקום ראיתם. שאם היתה קשת הראיה קצרה ויתן החשבון שיראה בצמצום. כגון שהיתה קשת הראיה ט' מעלות וה' חלקים והיה האורך הראשון י\"ג מעלות בשוה ובאו עדים שראוהו. אם היה בימות החמה או שהיו במקום נמוך חוששין להן ובודקין אותן הרבה ואם היה בימות הגשמים או במקום גבוה ביותר ודאי יראה אם לא יהיו שם עבים המבדילין.\n",
    "\n",
    "</div>\n"
   ]
  },
  {
   "cell_type": "markdown",
   "metadata": {},
   "source": [
    "\n",
    "**<div style=\"direction:rtl\">הלכה ה':</div>**\n",
    "<div style=\"direction:rtl\">\n",
    "עדים שראו החדש בזמנו ובאו והעידו וקבלום בית דין וקדשו את החדש הזה הראשון ומנו כ\"ט יום מן היום המקודש. וליל שלשים לא נראה הירח מפני שאי אפשר לו להראות או מפני שכיסוהו עבים. והרי בית דין מצפין לו כל יום שלשים כמו שביארנו. ולא באו עדים ועברו את החדש ונמצא יום ר\"ח השני יום ל\"א כמו שבארנו.\n",
    "\n",
    "</div>\n"
   ]
  },
  {
   "cell_type": "markdown",
   "metadata": {},
   "source": [
    "\n",
    "**<div style=\"direction:rtl\">הלכה ו':</div>**\n",
    "<div style=\"direction:rtl\">\n",
    "והתחילו למנות כ\"ט יום מן יום ראש החדש השני וליל שלשים לא נראה הירח. אם תאמר שכך מעברין את זה ועושין אותו שלשים וקובעין ראש החדש השלישי יום ל\"א. כך אפשר שלא יראה הירח בליל שלשים גם מחדש זה ונמצאו מעברין והולכין ועושין חדשים אחר שלשים כל השנה כולה. ונמצא בחדש אחרון אפשר שיראה הירח בליל כ\"ה בו או בליל כ\"ו. ואין לך דבר שחוק והפסד יותר מזה.\n",
    "\n",
    "</div>\n"
   ]
  },
  {
   "cell_type": "markdown",
   "metadata": {},
   "source": [
    "\n",
    "**<div style=\"direction:rtl\">הלכה ז':</div>**\n",
    "<div style=\"direction:rtl\">\n",
    "ואל תאמר שהדבר הזה דבר שאינו מצוי הוא שלא יראה הירח בכל השנה. אלא דבר קרוב הוא הרבה. ופעמים רבות יארע זה וכיוצא בו במדינות שזמן הגשמים שם ארוך והעבים רבים שאין אנו אומרין שלא יראה הירח בכל השנה אלא שלא יראה בתחלת החדשים ויראה אחר כך. ופעמים לא יראה מפני שאי אפשר לו שיראה בהם וחדשים שאפשר שיראה בהם לא יראה מפני העבים או מפני שהיה קטן ביותר ולא נתכוון אדם לראותו.\n",
    "\n",
    "</div>\n"
   ]
  },
  {
   "cell_type": "markdown",
   "metadata": {},
   "source": [
    "\n",
    "**<div style=\"direction:rtl\">הלכה ח':</div>**\n",
    "<div style=\"direction:rtl\">\n",
    "אלא הקבלה שהיה ביד חכמים איש מפי איש מפי משה רבינו כך היא. שבזמן שלא יראה הירח בתחלת החדשים חדש אחר חדש. בית דין קובעין חדש מעובר משלשים יום וחדש חסר מכ\"ט יום. וכן מחשבין וקובעין חדש מעובר וחדש חסר בקביעה לא בקידוש. שאין מקדשין אלא על הראייה. ופעמים עושין מלא אחר מלא או חסר אחר חסר כמו שיראה להם מן החשבון.\n",
    "\n",
    "</div>\n"
   ]
  },
  {
   "cell_type": "markdown",
   "metadata": {},
   "source": [
    "\n",
    "**<div style=\"direction:rtl\">הלכה ט':</div>**\n",
    "<div style=\"direction:rtl\">\n",
    "ומתכוונין לעולם בחשבונם שאם יראה הירח בחדש הבא יראה בזמנו או בליל עיבורו. לא שיראה קודם זמנו שהוא ליל כ\"ח. ובחשבונות הראיה האלו שבארנו יתבאר לך ותדע מתי אפשר שיראה ומתי אפשר שלא יראה. ועל זה סומכין ומעברין חדש אחר חדש או עושין חדש חסר אחר חדש חסר. ולעולם אין פוחתין מארבע חדשים המעוברין בשנה ולא מוסיפין על שמנה חדשים המעוברין. וגם לעיבור חדשים אלו שמעברין לפי חשבון עושין סעודת עיבור החדש כמו שאמרנו בפרק שלישי.\n",
    "\n",
    "</div>\n"
   ]
  },
  {
   "cell_type": "markdown",
   "metadata": {},
   "source": [
    "\n",
    "**<div style=\"direction:rtl\">הלכה י':</div>**\n",
    "<div style=\"direction:rtl\">\n",
    "וכל שתמצא בגמרא מדברים שמראין שבית דין סומכין על החשבון ומפי משה מסיני שהדבר מסור להם והרשות בידם לחסר או לעבר. וכן זה שחסר תשעה חדשים בשנה וכל כיוצא בזה הכל על עיקר זה הוא בנוי בזמן שלא נראה החדש בזמנו.\n",
    "\n",
    "</div>\n"
   ]
  },
  {
   "cell_type": "markdown",
   "metadata": {},
   "source": [
    "\n",
    "**<div style=\"direction:rtl\">הלכה י\"א:</div>**\n",
    "<div style=\"direction:rtl\">\n",
    "וכן זה שאמרו חכמים שמעברין את החדש לצורך הוא בחדשים אלו שמעברין אותן לפי חשבון ועושין אחד מלא ואחד חסר. ויש להם לעבר חדש אחר חדש או לחסר. בזה הוא שמעברין לצורך מפני שלא נראה הירח בזמנו. אלא בעת שיראה הירח בזמנו שהוא תחלת היותו נראה אחר שנתקבץ עם השמש מקדשין לעולם.\n",
    "\n",
    "</div>\n"
   ]
  },
  {
   "cell_type": "markdown",
   "metadata": {},
   "source": [
    "\n",
    "**<div style=\"direction:rtl\">הלכה י\"ב:</div>**\n",
    "<div style=\"direction:rtl\">\n",
    "וכל הדברים האלו בזמן שיש שם בית דין וסומכין על הראייה. אבל בזמנים אלו אין סומכין אלא על הקביעה בזה החשבון האמצעי הפשוט בכל ישראל כמו שביארנו בהלכות אלו.\n",
    "\n",
    "</div>\n"
   ]
  },
  {
   "cell_type": "markdown",
   "metadata": {},
   "source": [
    "\n",
    "**<div style=\"direction:rtl\">הלכה י\"ג:</div>**\n",
    "<div style=\"direction:rtl\">\n",
    "יתבאר בספרי החשבון התקופות והגימטריאות שאם יראה הירח בארץ ישראל יראה בכל מדינות העולם שהן למערב ארץ ישראל ומכוונות כנגדה. ואם יתן החשבון שלא יראה בארץ ישראל אפשר שיראה במדינות אחרות שהן למערב ארץ ישראל ומכוונות כנגדה. לפיכך אם יראה הירח במדינה שהיא למערב ארץ ישראל אין בזה ראיה שלא יראה בארץ ישראל אלא אפשר שנראה הירח בארץ ישראל.\n",
    "\n",
    "</div>\n"
   ]
  },
  {
   "cell_type": "markdown",
   "metadata": {},
   "source": [
    "\n",
    "**<div style=\"direction:rtl\">הלכה י\"ד:</div>**\n",
    "<div style=\"direction:rtl\">\n",
    "אבל אם לא יראה הירח בראש ההרים במדינה המערבית המכוונת כנגד ארץ ישראל בידוע שלא נראה בארץ ישראל.\n",
    "\n",
    "</div>\n"
   ]
  },
  {
   "cell_type": "markdown",
   "metadata": {},
   "source": [
    "\n",
    "**<div style=\"direction:rtl\">הלכה ט\"ו:</div>**\n",
    "<div style=\"direction:rtl\">\n",
    "וכן אם לא יראה הירח בא\"י בידוע שלא נראה בכל מדינות העולם שהן למזרח ארץ ישראל ומכוונות כנגדה. ואם יראה בארץ ישראל אפשר שיראה במדינות מזרחיות ואפשר שלא יראה. לפיכך אם יראה במדינה שהיא למזרח ארץ ישראל ומכוונת כנגדה בידוע שנראה בארץ ישראל. ואם לא נראה במדינה המזרחית אין בזה ראיה אלא אפשר שיראה בארץ ישראל.\n",
    "\n",
    "</div>\n"
   ]
  },
  {
   "cell_type": "markdown",
   "metadata": {},
   "source": [
    "\n",
    "**<div style=\"direction:rtl\">הלכה ט\"ז:</div>**\n",
    "<div style=\"direction:rtl\">\n",
    "וכל אלו הדברים כשהיו המדינות שבמערב ושבמזרח מכוונות. כגון שהיו נוטות לצפון העולם משלשים מעלות עד ל\"ה מעלות. אבל אם היו נוטות לצפון יותר מזה או פחות. משפטים אחרים יש להן שהרי אינן מכוונות כנגד א\"י. ודברים אלו שביארנו בערי מזרח ומערב אינן אלא להגיד כל משפטי הראייה להגדיל תורה ולהאדירה. לא שיהיו בני מזרח או בני מערב סומכין על ראיית הירח או תועיל להם כלום. אלא לעולם אין סומכין אלא על קידוש בית דין שבארץ ישראל כמו שביארנו כמה פעמים\n",
    "</div>"
   ]
  },
  {
   "attachments": {},
   "cell_type": "markdown",
   "metadata": {},
   "source": [
    "## <center><div style=\"direction:rtl\">פרק י\"ט</div></center>\n"
   ]
  },
  {
   "cell_type": "markdown",
   "metadata": {},
   "source": [
    "**<div style=\"direction:rtl\">הלכה א':</div>**\n",
    "<div style=\"direction:rtl\">\n",
    "לפי שאמרו חכמים שבכלל דברים שהיו בודקין בהן את העדים אומרין להן להיכן היה הירח נוטה. כשר בעיני להודיע דרך חשבון דבר זה. ואין אני מדקדק בו לפי שאינו מועיל בראייה כלל. ותחלת חשבון זה לדעת נטיית המזלות תחילה.\n",
    "\n",
    "</div>\n"
   ]
  },
  {
   "cell_type": "markdown",
   "metadata": {},
   "source": [
    "\n",
    "**<div style=\"direction:rtl\">הלכה ב':</div>**\n",
    "<div style=\"direction:rtl\">\n",
    "העגולה שהיא עוברת במחצית המזלות שבה מהלך השמש. אינה עוברת באמצע העולם מחצי המזרח לחצי המערב. אלא נוטה היא מעל הקו השוה המסבב באמצע העולם כנגד צפון ודרום. חציה נוטה לצפון וחציה נוטה לדרום.\n",
    "\n",
    "</div>\n"
   ]
  },
  {
   "cell_type": "markdown",
   "metadata": {},
   "source": [
    "\n",
    "**<div style=\"direction:rtl\">הלכה ג':</div>**\n",
    "<div style=\"direction:rtl\">\n",
    "ושתי נקודות יש בה שפוגעת בהן בעגולת הקו השוה המסבב באמצע העולם. הנקודה האחת ראש מזל טלה. והנקודה השנייה שכנגדה ראש מזל מאזנים. ונמצאו ששה מזלות נוטות לצפון מתחלת טלה עד סוף בתולה. וששה נוטות לדרום מתחלת מזל מאזנים עד סוף מזל דגים.\n",
    "\n",
    "</div>\n"
   ]
  },
  {
   "cell_type": "markdown",
   "metadata": {},
   "source": [
    "\n",
    "**<div style=\"direction:rtl\">הלכה ד':</div>**\n",
    "<div style=\"direction:rtl\">\n",
    "ומראש מזל טלה יתחילו המזלות לנטות מעט מעט ולהתרחק מעל הקו השוה כנגד הצפון עד ראש סרטן. ויהיה ראש סרטן רחוק מעל הקו השוה לרוח הצפון שלש ועשרים מעלות וחצי מעלה בקירוב. ויחזרו המזלות להתקרב לקו השוה מעט מעט עד ראש מאזנים שהוא על הקו השוה. ומראש מאזנים יתחילו לנטות ולהתרחק כנגד רוח דרום עד ראש גדי. ויהיה ראש גדי רחוק מעל הקו השוה לרוח דרום שלש ועשרים מעלות וחצי מעלה. ויחזרו המזלות להתקרב מעט מעט כנגד הקו השוה עד ראש טלה.\n",
    "\n",
    "</div>\n"
   ]
  },
  {
   "cell_type": "markdown",
   "metadata": {},
   "source": [
    "\n",
    "**<div style=\"direction:rtl\">הלכה ה':</div>**\n",
    "<div style=\"direction:rtl\">\n",
    "נמצא ראש טלה וראש מאזנים מסבב על הקו השוה. ולפיכך כשתהיה השמש בשני ראשים אלו לא תהיה נוטה לא לצפון ולא לדרום. ותזרח בחצי מזרח ותשקע בחצי מערב. ויהיה היום והלילה שוין בכל הישוב.\n",
    "\n",
    "</div>\n"
   ]
  },
  {
   "cell_type": "markdown",
   "metadata": {},
   "source": [
    "\n",
    "**<div style=\"direction:rtl\">הלכה ו':</div>**\n",
    "<div style=\"direction:rtl\">\n",
    "הרי נתברר לך שכל מעלה ומעלה ממעלות המזלות נוטה לצפון או לדרום ויש לנטייתה שיעור. ורוב הנטייה לא תהיה יותר על שלש ועשרים מעלות וחצי בקירוב.\n",
    "\n",
    "</div>\n"
   ]
  },
  {
   "cell_type": "markdown",
   "metadata": {},
   "source": [
    "\n",
    "**<div style=\"direction:rtl\">הלכה ז':</div>**\n",
    "<div style=\"direction:rtl\">\n",
    "ואלו הם השעורים של נטיות לפי מניין המעלות של מזלות. והתחלה מתחלת מזל טלה. י' מעלות נטייתם ד' מעלות. כ' מעלות נטייתם ח' מעלות. ל' מעלות נטייתם י\"א מעלות ומחצה. ומ' מעלות נטייתם ט\"ו מעלות. נ' מעלות נטייתם י\"ח מעלות. ס' מעלות נטייתם כ' מעלות. ע' מעלות נטייתם כ\"ב מעלות. פ' מעלות נטייתם כ\"ג מעלות. צ' מעלות נטייתם כ\"ג מעלות וחצי מעלה.\n",
    "\n",
    "</div>\n"
   ]
  },
  {
   "cell_type": "markdown",
   "metadata": {},
   "source": [
    "\n",
    "**<div style=\"direction:rtl\">הלכה ח':</div>**\n",
    "<div style=\"direction:rtl\">\n",
    "ואם יהיו אחדים במנין תקח להם מנתם מבין שתי הנטיות כמו שביארנו בשמש ובירח. כיצד חמש מעלות נטייתם שתי מעלות. ואם היה מניין המעלות כ\"ג נטייתם ט' מעלות. ועל דרך זו בכל האחדים שהן עם העשרות.\n",
    "\n",
    "</div>\n"
   ]
  },
  {
   "cell_type": "markdown",
   "metadata": {},
   "source": [
    "\n",
    "**<div style=\"direction:rtl\">הלכה ט':</div>**\n",
    "<div style=\"direction:rtl\">\n",
    "ומאחר שתדע הנטייה של מעלות מאחד עד צ'. תדע נטייתם כולן כדרך שהודענום ברוחב הירח. שאם היה המניין יותר על צ' עד ק\"פ תגרע אותו מק\"פ. ואם היה יותר על ק\"פ עד ר\"ע תגרע ממנו ק\"פ. ואם היה יותר על ר\"ע עד ש\"ס תגרע אותו מש\"ס. והנשאר תדע נטייתו והוא נטיית אותו המניין שבידך בלא גרעון ולא תוספת.\n",
    "\n",
    "</div>\n"
   ]
  },
  {
   "cell_type": "markdown",
   "metadata": {},
   "source": [
    "\n",
    "**<div style=\"direction:rtl\">הלכה י':</div>**\n",
    "<div style=\"direction:rtl\">\n",
    "אם תרצה לידע כמה מעלות הוא הירח נוטה מעל הקו השוה כנגד צפון העולם או כנגד דרום העולם. תדע תחלה כמה נטיית המעלה שהיא מקום הירח האמיתי ולאי זה רוח היא נוטה לצפון או לדרום. ותחזור ותחשוב ותוציא רוחב הירח הראשון ותראה אם הוא צפוני או דרומי. אם נמצאו רוחב הירח ונטיית מעלתו ברוח אחת כגון שהיו שניהם צפונים או דרומיים תקבץ שניהם. ואם נמצאו בשתי רוחות כגון שהיה האחד דרומי והאחד צפוני. תגרע המעט משניהם מן הרב והנשאר הוא מרחק הירח מעל קו השוה באותה הרוח שהיה בה הרב בשניהם.\n",
    "\n",
    "</div>\n"
   ]
  },
  {
   "cell_type": "markdown",
   "metadata": {},
   "source": [
    "\n",
    "**<div style=\"direction:rtl\">הלכה י\"א:</div>**\n",
    "<div style=\"direction:rtl\">\n",
    "כיצד באנו לידע כמה הירח נוטה מעל הקו השוה בליל הראייה שהוא שני לחדש אייר משנה זו. וכבר ידעת שמעלת הירח היה י\"ט ממזל שור. נטייתה בצפון כמו י\"ח מעלות. ורוחב הירח היה בדרום כמו ד' מעלות. תגרע המעט מן הרב ישאר י\"ד מעלות. נמצא הירח רחוק מעל הקו השוה י\"ד מעלות לרוח צפון. שהרי המניין הרב שהוא שמנה עשרה מעלות היה צפוני. וכל חשבון זה בקירוב בלא דקדוק לפי שאינו מועיל בראייה.\n",
    "\n",
    "</div>\n"
   ]
  },
  {
   "cell_type": "markdown",
   "metadata": {},
   "source": [
    "\n",
    "**<div style=\"direction:rtl\">הלכה י\"ב:</div>**\n",
    "<div style=\"direction:rtl\">\n",
    "אם תרצה לידע לאי זו רוח מרוחות העולם יראה הירח נוטה. תחשוב ותדע מרחקו מעל הקו השוה. אם יהיה על הקו השוה או קרוב ממנו בשתים או שלש מעלות בצפון או בדרום. יראה מכוון כנגד אמצע מערב ותראה פגימתו מכוונת כנגד מזרח העולם בשוה.\n",
    "\n",
    "</div>\n"
   ]
  },
  {
   "cell_type": "markdown",
   "metadata": {},
   "source": [
    "\n",
    "**<div style=\"direction:rtl\">הלכה י\"ג:</div>**\n",
    "<div style=\"direction:rtl\">\n",
    "ואם יהיה רחוק מעל הקו השוה לצפון העולם. יראה בין מערב העולם ובין צפונו. ותראה פגימתו נוטה מכנגד מזרח העולם כנגד דרום העולם.\n",
    "\n",
    "</div>\n"
   ]
  },
  {
   "cell_type": "markdown",
   "metadata": {},
   "source": [
    "\n",
    "**<div style=\"direction:rtl\">הלכה י\"ד:</div>**\n",
    "<div style=\"direction:rtl\">\n",
    "ואם היה רחוק מעל הקו השוה לדרום העולם. יראה בין מערב העולם ובין דרומו. ותראה פגימתו נוטה מכנגד מזרח העולם כנגד צפון העולם. ולפי רוב המרחק ולפי רוב הנטייה.\n",
    "\n",
    "</div>\n"
   ]
  },
  {
   "cell_type": "markdown",
   "metadata": {},
   "source": [
    "\n",
    "**<div style=\"direction:rtl\">הלכה ט\"ו:</div>**\n",
    "<div style=\"direction:rtl\">\n",
    "ומחקירת העדים שאומרין להם כמה היה גבוה. ודבר זה יודע מקשת הראייה. שבזמן שתהיה קשת הראייה קצרה יראה הירח כאילו הוא קרוב מן הארץ. ובזמן שתהיה ארוכה יראה גבוה מעל הארץ. ולפי אורך קשת הראייה לפי גובהו מעל הארץ בראיית העינים.\n",
    "\n",
    "</div>\n"
   ]
  },
  {
   "cell_type": "markdown",
   "metadata": {},
   "source": [
    "\n",
    "**<div style=\"direction:rtl\">הלכה ט\"ז:</div>**\n",
    "<div style=\"direction:rtl\">\n",
    "הרי ביארנו חשבונות כל הדרכים שצריכין להם בידיעת הראייה ובחקירת העדים. כדי שיהיה הכל ידוע למבינים ולא יחסרו דרך מדרכי התורה ולא ישוטטו לבקש אחריה בספרים אחרים. דרשו מעל ספר ה' וקראו אחת מהנה לא נעדרה:\n",
    "</div>\n"
   ]
  },
  {
   "attachments": {},
   "cell_type": "markdown",
   "metadata": {},
   "source": [
    "\n",
    "# <center><div style=\"direction:rtl\">סליק הלכות קדוש החדש</div></center>\n",
    "\n"
   ]
  }
 ],
 "metadata": {
  "kernelspec": {
   "display_name": "Python 3.9.13 ('defenv')",
   "language": "python",
   "name": "python3"
  },
  "language_info": {
   "codemirror_mode": {
    "name": "ipython",
    "version": 3
   },
   "file_extension": ".py",
   "mimetype": "text/x-python",
   "name": "python",
   "nbconvert_exporter": "python",
   "pygments_lexer": "ipython3",
   "version": "3.9.13"
  },
  "orig_nbformat": 4,
  "vscode": {
   "interpreter": {
    "hash": "bd5f407136ecca668825d8156c9e8900e5c30a81057fed19c1cd4ba3ab5176a1"
   }
  }
 },
 "nbformat": 4,
 "nbformat_minor": 2
}
